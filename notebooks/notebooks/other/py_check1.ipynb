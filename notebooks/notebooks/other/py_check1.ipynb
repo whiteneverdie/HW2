{
 "cells": [
  {
   "cell_type": "code",
   "execution_count": 8,
   "metadata": {},
   "outputs": [
    {
     "name": "stdout",
     "output_type": "stream",
     "text": [
      "Collecting package metadata (current_repodata.json): done\n",
      "Solving environment: done\n",
      "\n",
      "\n",
      "==> WARNING: A newer version of conda exists. <==\n",
      "  current version: 4.8.5\n",
      "  latest version: 4.9.2\n",
      "\n",
      "Please update conda by running\n",
      "\n",
      "    $ conda update -n base conda\n",
      "\n",
      "\n",
      "\n",
      "# All requested packages already installed.\n",
      "\n"
     ]
    }
   ],
   "source": [
    "!echo y | conda install lxml "
   ]
  },
  {
   "cell_type": "code",
   "execution_count": 3,
   "metadata": {},
   "outputs": [],
   "source": [
    "import requests\n",
    "from lxml import html\n",
    "\n",
    "def get_bad_news(*currency):\n",
    "    import requests\n",
    "    from lxml import html\n",
    "    def get_rate(cur):\n",
    "        main = 'https://www.banki.ru'\n",
    "        url  = f'{main}/products/currency/{cur}/'\n",
    "        UserAgent = 'Mozilla/5.0 (Macintosh; Intel Mac OS X 10.9; rv:45.0) Gecko/20100101 Firefox/45.0'\n",
    "        headers = {'User-Agent': UserAgent}\n",
    "        try:\n",
    "            r = requests.get(url=url, headers=headers)\n",
    "            tree = html.fromstring(r.text)\n",
    "            list_lxml = tree.xpath('//div[@class = \"currency-table__large-text\"]')[0]\n",
    "            return list_lxml.text\n",
    "        except:\n",
    "            return '-1'\n",
    "    text_for_sender = ' | '.join([f'{cur.upper()}: {get_rate(cur)}' for cur in currency])\n",
    "    return text_for_sender\n"
   ]
  },
  {
   "cell_type": "code",
   "execution_count": 4,
   "metadata": {},
   "outputs": [
    {
     "data": {
      "text/plain": [
       "'USD: 75,86 | EUR: 90,46 | GBP: 101,38'"
      ]
     },
     "execution_count": 4,
     "metadata": {},
     "output_type": "execute_result"
    }
   ],
   "source": [
    "get_bad_news('usd', 'eur', 'gbp')"
   ]
  },
  {
   "cell_type": "code",
   "execution_count": null,
   "metadata": {},
   "outputs": [],
   "source": []
  },
  {
   "cell_type": "code",
   "execution_count": null,
   "metadata": {},
   "outputs": [],
   "source": []
  },
  {
   "cell_type": "code",
   "execution_count": 5,
   "metadata": {},
   "outputs": [
    {
     "name": "stdout",
     "output_type": "stream",
     "text": [
      "Collecting confluent-kafka\n",
      "  Downloading confluent_kafka-1.5.0-cp38-cp38-manylinux1_x86_64.whl (8.1 MB)\n",
      "\u001b[K     |████████████████████████████████| 8.1 MB 1.5 MB/s eta 0:00:01\n",
      "\u001b[?25hInstalling collected packages: confluent-kafka\n",
      "Successfully installed confluent-kafka-1.5.0\n"
     ]
    }
   ],
   "source": [
    "!pip install confluent-kafka"
   ]
  },
  {
   "cell_type": "code",
   "execution_count": 6,
   "metadata": {},
   "outputs": [
    {
     "name": "stdout",
     "output_type": "stream",
     "text": [
      "/bin/bash: ping: command not found\n"
     ]
    }
   ],
   "source": [
    "!ping 172.27.1.16"
   ]
  },
  {
   "cell_type": "code",
   "execution_count": null,
   "metadata": {},
   "outputs": [],
   "source": [
    "!ping kafka"
   ]
  },
  {
   "cell_type": "code",
   "execution_count": null,
   "metadata": {},
   "outputs": [],
   "source": []
  },
  {
   "cell_type": "code",
   "execution_count": 7,
   "metadata": {},
   "outputs": [
    {
     "name": "stdout",
     "output_type": "stream",
     "text": [
      "b'the begin Sun Nov 29 12:00:51 GMT 2020'\n",
      "b'hello 1 - 2020-11-01 - 1604188800000'\n",
      "b'hello 2 - 2020-11-02 - 1604275200000'\n",
      "b'hello 3 - 2020-11-03 - 1604361600000'\n",
      "b'hello 4 - 2020-11-04 - 1604448000000'\n",
      "b'hello 5 - 2020-11-05 - 1604534400000'\n",
      "b'hello 6 - 2020-11-06 - 1604620800000'\n",
      "b'hello 7 - 2020-11-07 - 1604707200000'\n",
      "b'hello 8 - 2020-11-08 - 1604793600000'\n",
      "b'hello 9 - 2020-11-09 - 1604880000000'\n",
      "b'hello 10 - 2020-11-10 - 1604966400000'\n",
      "b'hello 11 - 2020-11-11 - 1605052800000'\n",
      "b'hello 12 - 2020-11-12 - 1605139200000'\n",
      "b'hello 13 - 2020-11-13 - 1605225600000'\n",
      "b'hello 14 - 2020-11-14 - 1605312000000'\n",
      "b'hello 15 - 2020-11-15 - 1605398400000'\n",
      "b'hello 16 - 2020-11-16 - 1605484800000'\n",
      "b'hello 17 - 2020-11-17 - 1605571200000'\n",
      "b'hello 18 - 2020-11-18 - 1605657600000'\n",
      "b'hello 19 - 2020-11-19 - 1605744000000'\n",
      "b'hello 20 - 2020-11-20 - 1605830400000'\n",
      "b'hello 21 - 2020-11-21 - 1605916800000'\n",
      "b'hello 22 - 2020-11-22 - 1606003200000'\n",
      "b'hello 23 - 2020-11-23 - 1606089600000'\n",
      "b'hello 24 - 2020-11-24 - 1606176000000'\n",
      "b'hello 25 - 2020-11-25 - 1606262400000'\n",
      "b'hello 26 - 2020-11-26 - 1606348800000'\n",
      "b'hello 27 - 2020-11-27 - 1606435200000'\n",
      "b'hello 28 - 2020-11-28 - 1606521600000'\n",
      "b'hello 29 - 2020-11-29 - 1606608000000'\n",
      "b'hello 30 - 2020-11-30 - 1606694400000'\n",
      "b'the end Sun Nov 29 12:00:52 GMT 2020'\n"
     ]
    },
    {
     "ename": "KeyboardInterrupt",
     "evalue": "",
     "output_type": "error",
     "traceback": [
      "\u001b[0;31m---------------------------------------------------------------------------\u001b[0m",
      "\u001b[0;31mKeyboardInterrupt\u001b[0m                         Traceback (most recent call last)",
      "\u001b[0;32m<ipython-input-7-122e2b23309b>\u001b[0m in \u001b[0;36m<module>\u001b[0;34m\u001b[0m\n\u001b[1;32m     35\u001b[0m     \u001b[0mrunning\u001b[0m \u001b[0;34m=\u001b[0m \u001b[0;32mFalse\u001b[0m\u001b[0;34m\u001b[0m\u001b[0;34m\u001b[0m\u001b[0m\n\u001b[1;32m     36\u001b[0m \u001b[0;34m\u001b[0m\u001b[0m\n\u001b[0;32m---> 37\u001b[0;31m \u001b[0mbasic_consume_loop\u001b[0m\u001b[0;34m(\u001b[0m\u001b[0mconsumer\u001b[0m\u001b[0;34m=\u001b[0m\u001b[0mconsumer\u001b[0m\u001b[0;34m,\u001b[0m \u001b[0mtopics\u001b[0m\u001b[0;34m=\u001b[0m\u001b[0;34m[\u001b[0m\u001b[0;34m\"text_topic\"\u001b[0m\u001b[0;34m]\u001b[0m\u001b[0;34m)\u001b[0m\u001b[0;34m\u001b[0m\u001b[0;34m\u001b[0m\u001b[0m\n\u001b[0m",
      "\u001b[0;32m<ipython-input-7-122e2b23309b>\u001b[0m in \u001b[0;36mbasic_consume_loop\u001b[0;34m(consumer, topics)\u001b[0m\n\u001b[1;32m     16\u001b[0m         \u001b[0mconsumer\u001b[0m\u001b[0;34m.\u001b[0m\u001b[0msubscribe\u001b[0m\u001b[0;34m(\u001b[0m\u001b[0mtopics\u001b[0m\u001b[0;34m)\u001b[0m\u001b[0;34m\u001b[0m\u001b[0;34m\u001b[0m\u001b[0m\n\u001b[1;32m     17\u001b[0m         \u001b[0;32mwhile\u001b[0m \u001b[0mrunning\u001b[0m\u001b[0;34m:\u001b[0m\u001b[0;34m\u001b[0m\u001b[0;34m\u001b[0m\u001b[0m\n\u001b[0;32m---> 18\u001b[0;31m             \u001b[0mmsg\u001b[0m \u001b[0;34m=\u001b[0m \u001b[0mconsumer\u001b[0m\u001b[0;34m.\u001b[0m\u001b[0mpoll\u001b[0m\u001b[0;34m(\u001b[0m\u001b[0mtimeout\u001b[0m\u001b[0;34m=\u001b[0m\u001b[0;36m1.0\u001b[0m\u001b[0;34m)\u001b[0m\u001b[0;34m\u001b[0m\u001b[0;34m\u001b[0m\u001b[0m\n\u001b[0m\u001b[1;32m     19\u001b[0m             \u001b[0;32mif\u001b[0m \u001b[0mmsg\u001b[0m \u001b[0;32mis\u001b[0m \u001b[0;32mNone\u001b[0m\u001b[0;34m:\u001b[0m \u001b[0;32mcontinue\u001b[0m\u001b[0;34m\u001b[0m\u001b[0;34m\u001b[0m\u001b[0m\n\u001b[1;32m     20\u001b[0m \u001b[0;34m\u001b[0m\u001b[0m\n",
      "\u001b[0;31mKeyboardInterrupt\u001b[0m: "
     ]
    }
   ],
   "source": [
    "from confluent_kafka import Consumer\n",
    "\n",
    "conf = {'bootstrap.servers': \"kafka:9092\",\n",
    "        'group.id': \"test2\",\n",
    "        'auto.offset.reset': 'beginning'}\n",
    "\n",
    "consumer = Consumer(conf)\n",
    "\n",
    "def msg_process(msg):\n",
    "    print(msg.value())\n",
    "\n",
    "running = True\n",
    "\n",
    "def basic_consume_loop(consumer, topics):\n",
    "    try:\n",
    "        consumer.subscribe(topics)\n",
    "        while running:\n",
    "            msg = consumer.poll(timeout=1.0)\n",
    "            if msg is None: continue\n",
    "\n",
    "            if msg.error():\n",
    "                if msg.error().code() == KafkaError._PARTITION_EOF:\n",
    "                    # End of partition event\n",
    "                    sys.stderr.write('%% %s [%d] reached end at offset %d\\n' %\n",
    "                                     (msg.topic(), msg.partition(), msg.offset()))\n",
    "                elif msg.error():\n",
    "                    raise KafkaException(msg.error())\n",
    "            else:\n",
    "                msg_process(msg)\n",
    "    finally:\n",
    "        # Close down consumer to commit final offsets.\n",
    "        consumer.close()\n",
    "\n",
    "def shutdown():\n",
    "    running = False\n",
    "    \n",
    "basic_consume_loop(consumer=consumer, topics=[\"text_topic\"])"
   ]
  },
  {
   "cell_type": "code",
   "execution_count": null,
   "metadata": {},
   "outputs": [],
   "source": []
  },
  {
   "cell_type": "code",
   "execution_count": null,
   "metadata": {},
   "outputs": [],
   "source": []
  }
 ],
 "metadata": {
  "kernelspec": {
   "display_name": "Python 3",
   "language": "python",
   "name": "python3"
  },
  "language_info": {
   "codemirror_mode": {
    "name": "ipython",
    "version": 3
   },
   "file_extension": ".py",
   "mimetype": "text/x-python",
   "name": "python",
   "nbconvert_exporter": "python",
   "pygments_lexer": "ipython3",
   "version": "3.8.6"
  }
 },
 "nbformat": 4,
 "nbformat_minor": 4
}
