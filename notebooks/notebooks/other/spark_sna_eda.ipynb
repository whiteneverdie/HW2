{
 "cells": [
  {
   "cell_type": "markdown",
   "metadata": {},
   "source": [
    "<br><br>\n",
    "**INTRO**"
   ]
  },
  {
   "cell_type": "code",
   "execution_count": 1,
   "metadata": {},
   "outputs": [
    {
     "data": {
      "text/plain": [
       "\u001b[32mimport \u001b[39m\u001b[36msys.process._\u001b[39m"
      ]
     },
     "execution_count": 1,
     "metadata": {},
     "output_type": "execute_result"
    }
   ],
   "source": [
    "import sys.process._"
   ]
  },
  {
   "cell_type": "code",
   "execution_count": 2,
   "metadata": {},
   "outputs": [
    {
     "name": "stdout",
     "output_type": "stream",
     "text": [
      "total 6712\n",
      "-rwxrwxrwx 1 jovyan 1000    2083 Sep 12 17:33 about\n",
      "-rwxrwxrwx 1 jovyan 1000 6794338 Sep 16 13:52 breeze_linreg.ipynb\n",
      "drwxrwxrwx 4 jovyan 1000    4096 Sep 12 17:26 data\n",
      "-rwxrwxrwx 1 jovyan 1000   66102 Sep 16 13:52 spark_sna_eda.ipynb\n"
     ]
    },
    {
     "data": {
      "text/plain": [
       "\u001b[36mres1\u001b[39m: \u001b[32mInt\u001b[39m = \u001b[32m0\u001b[39m"
      ]
     },
     "execution_count": 2,
     "metadata": {},
     "output_type": "execute_result"
    }
   ],
   "source": [
    "\"ls -l\" !"
   ]
  },
  {
   "cell_type": "code",
   "execution_count": 3,
   "metadata": {},
   "outputs": [
    {
     "data": {
      "text/plain": [
       "defined \u001b[32mfunction\u001b[39m \u001b[36mwd\u001b[39m"
      ]
     },
     "execution_count": 3,
     "metadata": {},
     "output_type": "execute_result"
    }
   ],
   "source": [
    "def wd = {val dir = \"pwd\" !!; dir.stripLineEnd}"
   ]
  },
  {
   "cell_type": "code",
   "execution_count": 4,
   "metadata": {},
   "outputs": [
    {
     "data": {
      "text/plain": [
       "\u001b[36mparquet_train\u001b[39m: \u001b[32mString\u001b[39m = \u001b[32m\"/home/jovyan/work/spark_homework/data/SNAHackathon2019/collabTrain\"\u001b[39m\n",
       "\u001b[36mparquet_test\u001b[39m: \u001b[32mString\u001b[39m = \u001b[32m\"/home/jovyan/work/spark_homework/data/SNAHackathon2019/collabTest\"\u001b[39m"
      ]
     },
     "execution_count": 4,
     "metadata": {},
     "output_type": "execute_result"
    }
   ],
   "source": [
    "// 1. Скачайте датасет\n",
    "\n",
    "val parquet_train = f\"${wd}/data/SNAHackathon2019/collabTrain\"\n",
    "val parquet_test = f\"${wd}/data/SNAHackathon2019/collabTest\""
   ]
  },
  {
   "cell_type": "code",
   "execution_count": 5,
   "metadata": {},
   "outputs": [
    {
     "name": "stdout",
     "output_type": "stream",
     "text": [
      "2.2G\t/home/jovyan/work/spark_homework/data/SNAHackathon2019/collabTrain\n"
     ]
    },
    {
     "data": {
      "text/plain": [
       "\u001b[36mres4\u001b[39m: \u001b[32mInt\u001b[39m = \u001b[32m0\u001b[39m"
      ]
     },
     "execution_count": 5,
     "metadata": {},
     "output_type": "execute_result"
    }
   ],
   "source": [
    "f\"du -s -h $parquet_train \" !"
   ]
  },
  {
   "cell_type": "code",
   "execution_count": 6,
   "metadata": {},
   "outputs": [
    {
     "name": "stdout",
     "output_type": "stream",
     "text": [
      "126M\t/home/jovyan/work/spark_homework/data/SNAHackathon2019/collabTest\n"
     ]
    },
    {
     "data": {
      "text/plain": [
       "\u001b[36mres5\u001b[39m: \u001b[32mInt\u001b[39m = \u001b[32m0\u001b[39m"
      ]
     },
     "execution_count": 6,
     "metadata": {},
     "output_type": "execute_result"
    }
   ],
   "source": [
    "f\"du -s -h $parquet_test \" !"
   ]
  },
  {
   "cell_type": "markdown",
   "metadata": {},
   "source": [
    "<br><br>\n",
    "**IMPORT LIBRARY AND CREATE SPARK SESSION**"
   ]
  },
  {
   "cell_type": "code",
   "execution_count": 7,
   "metadata": {},
   "outputs": [
    {
     "data": {
      "text/plain": [
       "\u001b[32mimport \u001b[39m\u001b[36m$ivy.$                                  \n",
       "\u001b[39m\n",
       "\u001b[32mimport \u001b[39m\u001b[36m$ivy.$                                    \n",
       "\n",
       "\u001b[39m\n",
       "\u001b[32mimport \u001b[39m\u001b[36morg.apache.log4j.{Level, Logger}\n",
       "\u001b[39m\n",
       "\u001b[32mimport \u001b[39m\u001b[36morg.apache.spark.sql._\n",
       "\u001b[39m\n",
       "\u001b[32mimport \u001b[39m\u001b[36morg.apache.spark.sql.functions._\u001b[39m"
      ]
     },
     "execution_count": 7,
     "metadata": {},
     "output_type": "execute_result"
    }
   ],
   "source": [
    "import $ivy.`org.apache.spark::spark-sql:2.4.5`\n",
    "import $ivy.`org.apache.spark::spark-mllib:2.4.5`\n",
    "\n",
    "import org.apache.log4j.{Level, Logger}\n",
    "Logger.getLogger(\"org\").setLevel(Level.OFF)\n",
    "\n",
    "import org.apache.spark.sql._\n",
    "import org.apache.spark.sql.functions._"
   ]
  },
  {
   "cell_type": "code",
   "execution_count": 8,
   "metadata": {},
   "outputs": [
    {
     "name": "stdout",
     "output_type": "stream",
     "text": [
      "Loading spark-stubs\n",
      "Getting spark JARs\n",
      "Creating SparkSession\n"
     ]
    },
    {
     "name": "stderr",
     "output_type": "stream",
     "text": [
      "Using Spark's default log4j profile: org/apache/spark/log4j-defaults.properties\n"
     ]
    },
    {
     "data": {
      "text/plain": [
       "\u001b[36mspark\u001b[39m: \u001b[32mSparkSession\u001b[39m = org.apache.spark.sql.SparkSession@609e59cd\n",
       "\u001b[32mimport \u001b[39m\u001b[36mspark.implicits._\u001b[39m"
      ]
     },
     "execution_count": 8,
     "metadata": {},
     "output_type": "execute_result"
    }
   ],
   "source": [
    "val spark = AmmoniteSparkSession\n",
    "    .builder()\n",
    "    .master(\"local[*]\")\n",
    "    .getOrCreate()\n",
    "\n",
    "import spark.implicits._"
   ]
  },
  {
   "cell_type": "code",
   "execution_count": 11,
   "metadata": {},
   "outputs": [],
   "source": [
    "// val spark = NotebookSparkSession\n",
    "//     .builder()\n",
    "//     .master(\"local[*]\")\n",
    "//     .getOrCreate()\n",
    "\n",
    "// import spark.implicits._"
   ]
  },
  {
   "cell_type": "code",
   "execution_count": 11,
   "metadata": {},
   "outputs": [],
   "source": [
    "// spark.close()\n",
    "// spark.stop()"
   ]
  },
  {
   "cell_type": "code",
   "execution_count": 11,
   "metadata": {},
   "outputs": [],
   "source": [
    "// 2. Ознакомьтесь с его описанием"
   ]
  },
  {
   "cell_type": "markdown",
   "metadata": {},
   "source": [
    "**LOAD DATA**\n",
    "<br><br>\n",
    "<font size=\"2.0\">\n",
    "instanceId_userId — идентификатор пользователя (анонимизированный);  \n",
    "instanceId_objectType — тип объекта;  \n",
    "instanceId_objectId — идентификатор объекта (анонимизированный);  \n",
    "feedback — массив с типами реакций пользователя (наличие в массиве токена Liked говорит о том, что объект получил «класс» от пользователя);  \n",
    "audit_clientType — тип платформы, с которой зашёл пользователь;  \n",
    "audit_timestamp — время, когда строилась лента;  \n",
    "metadata_ownerId — автор показанного объекта (анонимизированный);  \n",
    "metadata_createdAt — дата создания показанного объекта.  \n",
    "</font>\n",
    "<br><font size=\"2.0\">\n",
    "audit_* — расширенная информация о контексте построения ленты;  \n",
    "metadata_* — расширенная информация о самом объекте;  \n",
    "userOwnerCounters_* — информация о предыдущих взаимодействиях пользователя и автора контента;  \n",
    "ownerUserCounters_* — информация о предыдущих взаимодействиях автора контента и пользователя;  \n",
    "membership_* — информация о членстве пользователя в группе, где опубликован контент;  \n",
    "user_* — подробная информация о пользователе;  \n",
    "auditweights_* — большое количество runtime-признаков, извлечённых текущей системой.  \n",
    "</font>"
   ]
  },
  {
   "cell_type": "code",
   "execution_count": 9,
   "metadata": {},
   "outputs": [
    {
     "data": {
      "text/plain": [
       "\u001b[36mdf\u001b[39m: \u001b[32mDataset\u001b[39m[\u001b[32mRow\u001b[39m] = [instanceId_userId: int, instanceId_objectType: string ... 167 more fields]\n",
       "\u001b[36mshape\u001b[39m: (\u001b[32mInt\u001b[39m, \u001b[32mInt\u001b[39m) = (\u001b[32m18286575\u001b[39m, \u001b[32m169\u001b[39m)\n",
       "defined \u001b[32mfunction\u001b[39m \u001b[36mcolName\u001b[39m\n",
       "defined \u001b[32mfunction\u001b[39m \u001b[36mcolType\u001b[39m"
      ]
     },
     "execution_count": 9,
     "metadata": {},
     "output_type": "execute_result"
    }
   ],
   "source": [
    "// load from parquet\n",
    "val df = spark.read.parquet(parquet_train).cache()\n",
    "\n",
    "// get dimention of dataframe\n",
    "val shape = (df.count().toInt, df.columns.length)\n",
    "\n",
    "// group attribute by prefix name\n",
    "def colName = df.columns.map(col(_)).groupBy(_.toString.split(\"_\")(0))\n",
    "\n",
    "// group attribute by spark type\n",
    "def colType = (\n",
    "    df\n",
    "    .schema\n",
    "    .fields.map(f => (col(f.name), f.dataType.toString))\n",
    "    .groupBy(_._2)\n",
    "    .mapValues(x => x.map(y => y._1))\n",
    ")"
   ]
  },
  {
   "cell_type": "code",
   "execution_count": 10,
   "metadata": {},
   "outputs": [
    {
     "name": "stdout",
     "output_type": "stream",
     "text": [
      "root\n",
      " |-- instanceId_userId: integer (nullable = true)\n",
      " |-- instanceId_objectType: string (nullable = true)\n",
      " |-- instanceId_objectId: integer (nullable = true)\n",
      " |-- audit_pos: long (nullable = true)\n",
      " |-- audit_clientType: string (nullable = true)\n",
      " |-- audit_timestamp: long (nullable = true)\n",
      " |-- audit_timePassed: long (nullable = true)\n",
      " |-- audit_experiment: string (nullable = true)\n",
      " |-- audit_resourceType: long (nullable = true)\n",
      " |-- metadata_ownerId: integer (nullable = true)\n",
      " |-- metadata_ownerType: string (nullable = true)\n",
      " |-- metadata_createdAt: long (nullable = true)\n",
      " |-- metadata_authorId: integer (nullable = true)\n",
      " |-- metadata_applicationId: long (nullable = true)\n",
      " |-- metadata_numCompanions: integer (nullable = true)\n",
      " |-- metadata_numPhotos: integer (nullable = true)\n",
      " |-- metadata_numPolls: integer (nullable = true)\n",
      " |-- metadata_numSymbols: integer (nullable = true)\n",
      " |-- metadata_numTokens: integer (nullable = true)\n",
      " |-- metadata_numVideos: integer (nullable = true)\n",
      " |-- metadata_platform: string (nullable = true)\n",
      " |-- metadata_totalVideoLength: integer (nullable = true)\n",
      " |-- metadata_options: array (nullable = true)\n",
      " |    |-- element: string (containsNull = true)\n",
      " |-- relationsMask: long (nullable = true)\n",
      " |-- userOwnerCounters_USER_FEED_REMOVE: double (nullable = true)\n",
      " |-- userOwnerCounters_USER_PROFILE_VIEW: double (nullable = true)\n",
      " |-- userOwnerCounters_VOTE_POLL: double (nullable = true)\n",
      " |-- userOwnerCounters_USER_SEND_MESSAGE: double (nullable = true)\n",
      " |-- userOwnerCounters_USER_DELETE_MESSAGE: double (nullable = true)\n",
      " |-- userOwnerCounters_USER_INTERNAL_LIKE: double (nullable = true)\n",
      " |-- userOwnerCounters_USER_INTERNAL_UNLIKE: double (nullable = true)\n",
      " |-- userOwnerCounters_USER_STATUS_COMMENT_CREATE: double (nullable = true)\n",
      " |-- userOwnerCounters_PHOTO_COMMENT_CREATE: double (nullable = true)\n",
      " |-- userOwnerCounters_MOVIE_COMMENT_CREATE: double (nullable = true)\n",
      " |-- userOwnerCounters_USER_PHOTO_ALBUM_COMMENT_CREATE: double (nullable = true)\n",
      " |-- userOwnerCounters_COMMENT_INTERNAL_LIKE: double (nullable = true)\n",
      " |-- userOwnerCounters_USER_FORUM_MESSAGE_CREATE: double (nullable = true)\n",
      " |-- userOwnerCounters_PHOTO_MARK_CREATE: double (nullable = true)\n",
      " |-- userOwnerCounters_PHOTO_VIEW: double (nullable = true)\n",
      " |-- userOwnerCounters_PHOTO_PIN_BATCH_CREATE: double (nullable = true)\n",
      " |-- userOwnerCounters_PHOTO_PIN_UPDATE: double (nullable = true)\n",
      " |-- userOwnerCounters_USER_PRESENT_SEND: double (nullable = true)\n",
      " |-- userOwnerCounters_UNKNOWN: double (nullable = true)\n",
      " |-- userOwnerCounters_CREATE_TOPIC: double (nullable = true)\n",
      " |-- userOwnerCounters_CREATE_IMAGE: double (nullable = true)\n",
      " |-- userOwnerCounters_CREATE_MOVIE: double (nullable = true)\n",
      " |-- userOwnerCounters_CREATE_COMMENT: double (nullable = true)\n",
      " |-- userOwnerCounters_CREATE_LIKE: double (nullable = true)\n",
      " |-- userOwnerCounters_TEXT: double (nullable = true)\n",
      " |-- userOwnerCounters_IMAGE: double (nullable = true)\n",
      " |-- userOwnerCounters_VIDEO: double (nullable = true)\n",
      " |-- ownerUserCounters_USER_FEED_REMOVE: double (nullable = true)\n",
      " |-- ownerUserCounters_USER_PROFILE_VIEW: double (nullable = true)\n",
      " |-- ownerUserCounters_VOTE_POLL: double (nullable = true)\n",
      " |-- ownerUserCounters_USER_SEND_MESSAGE: double (nullable = true)\n",
      " |-- ownerUserCounters_USER_DELETE_MESSAGE: double (nullable = true)\n",
      " |-- ownerUserCounters_USER_INTERNAL_LIKE: double (nullable = true)\n",
      " |-- ownerUserCounters_USER_INTERNAL_UNLIKE: double (nullable = true)\n",
      " |-- ownerUserCounters_USER_STATUS_COMMENT_CREATE: double (nullable = true)\n",
      " |-- ownerUserCounters_PHOTO_COMMENT_CREATE: double (nullable = true)\n",
      " |-- ownerUserCounters_MOVIE_COMMENT_CREATE: double (nullable = true)\n",
      " |-- ownerUserCounters_USER_PHOTO_ALBUM_COMMENT_CREATE: double (nullable = true)\n",
      " |-- ownerUserCounters_COMMENT_INTERNAL_LIKE: double (nullable = true)\n",
      " |-- ownerUserCounters_USER_FORUM_MESSAGE_CREATE: double (nullable = true)\n",
      " |-- ownerUserCounters_PHOTO_MARK_CREATE: double (nullable = true)\n",
      " |-- ownerUserCounters_PHOTO_VIEW: double (nullable = true)\n",
      " |-- ownerUserCounters_PHOTO_PIN_BATCH_CREATE: double (nullable = true)\n",
      " |-- ownerUserCounters_PHOTO_PIN_UPDATE: double (nullable = true)\n",
      " |-- ownerUserCounters_USER_PRESENT_SEND: double (nullable = true)\n",
      " |-- ownerUserCounters_UNKNOWN: double (nullable = true)\n",
      " |-- ownerUserCounters_CREATE_TOPIC: double (nullable = true)\n",
      " |-- ownerUserCounters_CREATE_IMAGE: double (nullable = true)\n",
      " |-- ownerUserCounters_CREATE_MOVIE: double (nullable = true)\n",
      " |-- ownerUserCounters_CREATE_COMMENT: double (nullable = true)\n",
      " |-- ownerUserCounters_CREATE_LIKE: double (nullable = true)\n",
      " |-- ownerUserCounters_TEXT: double (nullable = true)\n",
      " |-- ownerUserCounters_IMAGE: double (nullable = true)\n",
      " |-- ownerUserCounters_VIDEO: double (nullable = true)\n",
      " |-- membership_status: string (nullable = true)\n",
      " |-- membership_statusUpdateDate: long (nullable = true)\n",
      " |-- membership_joinDate: long (nullable = true)\n",
      " |-- membership_joinRequestDate: long (nullable = true)\n",
      " |-- owner_create_date: long (nullable = true)\n",
      " |-- owner_birth_date: integer (nullable = true)\n",
      " |-- owner_gender: integer (nullable = true)\n",
      " |-- owner_status: integer (nullable = true)\n",
      " |-- owner_ID_country: long (nullable = true)\n",
      " |-- owner_ID_Location: integer (nullable = true)\n",
      " |-- owner_is_active: integer (nullable = true)\n",
      " |-- owner_is_deleted: integer (nullable = true)\n",
      " |-- owner_is_abused: integer (nullable = true)\n",
      " |-- owner_is_activated: integer (nullable = true)\n",
      " |-- owner_change_datime: long (nullable = true)\n",
      " |-- owner_is_semiactivated: integer (nullable = true)\n",
      " |-- owner_region: integer (nullable = true)\n",
      " |-- user_create_date: long (nullable = true)\n",
      " |-- user_birth_date: integer (nullable = true)\n",
      " |-- user_gender: integer (nullable = true)\n",
      " |-- user_status: integer (nullable = true)\n",
      " |-- user_ID_country: long (nullable = true)\n",
      " |-- user_ID_Location: integer (nullable = true)\n",
      " |-- user_is_active: integer (nullable = true)\n",
      " |-- user_is_deleted: integer (nullable = true)\n",
      " |-- user_is_abused: integer (nullable = true)\n",
      " |-- user_is_activated: integer (nullable = true)\n",
      " |-- user_change_datime: long (nullable = true)\n",
      " |-- user_is_semiactivated: integer (nullable = true)\n",
      " |-- user_region: integer (nullable = true)\n",
      " |-- feedback: array (nullable = true)\n",
      " |    |-- element: string (containsNull = true)\n",
      " |-- objectId: integer (nullable = true)\n",
      " |-- auditweights_ageMs: double (nullable = true)\n",
      " |-- auditweights_closed: double (nullable = true)\n",
      " |-- auditweights_ctr_gender: double (nullable = true)\n",
      " |-- auditweights_ctr_high: double (nullable = true)\n",
      " |-- auditweights_ctr_negative: double (nullable = true)\n",
      " |-- auditweights_dailyRecency: double (nullable = true)\n",
      " |-- auditweights_feedOwner_RECOMMENDED_GROUP: double (nullable = true)\n",
      " |-- auditweights_feedStats: double (nullable = true)\n",
      " |-- auditweights_friendCommentFeeds: double (nullable = true)\n",
      " |-- auditweights_friendCommenters: double (nullable = true)\n",
      " |-- auditweights_friendLikes: double (nullable = true)\n",
      " |-- auditweights_friendLikes_actors: double (nullable = true)\n",
      " |-- auditweights_hasDetectedText: double (nullable = true)\n",
      " |-- auditweights_hasText: double (nullable = true)\n",
      " |-- auditweights_isPymk: double (nullable = true)\n",
      " |-- auditweights_isRandom: double (nullable = true)\n",
      " |-- auditweights_likersFeedStats_hyper: double (nullable = true)\n",
      " |-- auditweights_likersSvd_prelaunch_hyper: double (nullable = true)\n",
      " |-- auditweights_matrix: double (nullable = true)\n",
      " |-- auditweights_notOriginalPhoto: double (nullable = true)\n",
      " |-- auditweights_numDislikes: double (nullable = true)\n",
      " |-- auditweights_numLikes: double (nullable = true)\n",
      " |-- auditweights_numShows: double (nullable = true)\n",
      " |-- auditweights_onlineVideo: double (nullable = true)\n",
      " |-- auditweights_partAge: double (nullable = true)\n",
      " |-- auditweights_partCtr: double (nullable = true)\n",
      " |-- auditweights_partSvd: double (nullable = true)\n",
      " |-- auditweights_processedVideo: double (nullable = true)\n",
      " |-- auditweights_relationMasks: double (nullable = true)\n",
      " |-- auditweights_source_LIVE_TOP: double (nullable = true)\n",
      " |-- auditweights_source_MOVIE_TOP: double (nullable = true)\n",
      " |-- auditweights_svd_prelaunch: double (nullable = true)\n",
      " |-- auditweights_svd_spark: double (nullable = true)\n",
      " |-- auditweights_userAge: double (nullable = true)\n",
      " |-- auditweights_userOwner_CREATE_COMMENT: double (nullable = true)\n",
      " |-- auditweights_userOwner_CREATE_IMAGE: double (nullable = true)\n",
      " |-- auditweights_userOwner_CREATE_LIKE: double (nullable = true)\n",
      " |-- auditweights_userOwner_IMAGE: double (nullable = true)\n",
      " |-- auditweights_userOwner_MOVIE_COMMENT_CREATE: double (nullable = true)\n",
      " |-- auditweights_userOwner_PHOTO_COMMENT_CREATE: double (nullable = true)\n",
      " |-- auditweights_userOwner_PHOTO_MARK_CREATE: double (nullable = true)\n",
      " |-- auditweights_userOwner_PHOTO_VIEW: double (nullable = true)\n",
      " |-- auditweights_userOwner_TEXT: double (nullable = true)\n",
      " |-- auditweights_userOwner_UNKNOWN: double (nullable = true)\n",
      " |-- auditweights_userOwner_USER_DELETE_MESSAGE: double (nullable = true)\n",
      " |-- auditweights_userOwner_USER_FEED_REMOVE: double (nullable = true)\n",
      " |-- auditweights_userOwner_USER_FORUM_MESSAGE_CREATE: double (nullable = true)\n",
      " |-- auditweights_userOwner_USER_INTERNAL_LIKE: double (nullable = true)\n",
      " |-- auditweights_userOwner_USER_INTERNAL_UNLIKE: double (nullable = true)\n",
      " |-- auditweights_userOwner_USER_PRESENT_SEND: double (nullable = true)\n",
      " |-- auditweights_userOwner_USER_PROFILE_VIEW: double (nullable = true)\n",
      " |-- auditweights_userOwner_USER_SEND_MESSAGE: double (nullable = true)\n",
      " |-- auditweights_userOwner_USER_STATUS_COMMENT_CREATE: double (nullable = true)\n",
      " |-- auditweights_userOwner_VIDEO: double (nullable = true)\n",
      " |-- auditweights_userOwner_VOTE_POLL: double (nullable = true)\n",
      " |-- auditweights_x_ActorsRelations: long (nullable = true)\n",
      " |-- auditweights_likersSvd_spark_hyper: double (nullable = true)\n",
      " |-- auditweights_source_PROMO: double (nullable = true)\n",
      " |-- date: date (nullable = true)\n",
      "\n"
     ]
    }
   ],
   "source": [
    "df.printSchema"
   ]
  },
  {
   "cell_type": "code",
   "execution_count": 11,
   "metadata": {},
   "outputs": [
    {
     "name": "stdout",
     "output_type": "stream",
     "text": [
      "instanceId: 3\n",
      "membership: 4\n",
      "relationsMask: 1\n",
      "userOwnerCounters: 27\n",
      "feedback: 1\n",
      "date: 1\n",
      "metadata: 14\n",
      "objectId: 1\n",
      "audit: 6\n",
      "owner: 13\n",
      "ownerUserCounters: 27\n",
      "auditweights: 58\n",
      "user: 13\n"
     ]
    }
   ],
   "source": [
    "colName.foreach {case (key, value) => println (f\"$key: ${value.length}\")}"
   ]
  },
  {
   "cell_type": "code",
   "execution_count": 12,
   "metadata": {},
   "outputs": [
    {
     "name": "stdout",
     "output_type": "stream",
     "text": [
      "+-----------------+---------------------+-------------------+\n",
      "|instanceId_userId|instanceId_objectType|instanceId_objectId|\n",
      "+-----------------+---------------------+-------------------+\n",
      "|              108|                 Post|           18452434|\n",
      "|              231|                 Post|           31980032|\n",
      "|              423|                 Post|           33834009|\n",
      "+-----------------+---------------------+-------------------+\n",
      "only showing top 3 rows\n",
      "\n"
     ]
    }
   ],
   "source": [
    "df.select(colName(\"instanceId\"): _*).show(3)"
   ]
  },
  {
   "cell_type": "code",
   "execution_count": 13,
   "metadata": {},
   "outputs": [
    {
     "name": "stdout",
     "output_type": "stream",
     "text": [
      "StringType: 6\n",
      "LongType: 17\n",
      "IntegerType: 32\n",
      "ArrayType(StringType,true): 2\n",
      "DoubleType: 111\n",
      "DateType: 1\n"
     ]
    }
   ],
   "source": [
    "colType.foreach {case (key, value) => println (f\"$key: ${value.length}\")}"
   ]
  },
  {
   "cell_type": "code",
   "execution_count": 14,
   "metadata": {},
   "outputs": [
    {
     "name": "stdout",
     "output_type": "stream",
     "text": [
      "+---------------------+----------------+----------------+-------------------+-----------------+-----------------+\n",
      "|instanceId_objectType|audit_clientType|audit_experiment| metadata_ownerType|metadata_platform|membership_status|\n",
      "+---------------------+----------------+----------------+-------------------+-----------------+-----------------+\n",
      "|                 Post|             MOB|    XPRM-5386_G1|GROUP_OPEN_OFFICIAL|            OTHER|                A|\n",
      "|                 Post|             MOB|    XPRM-5386_G2|GROUP_OPEN_OFFICIAL|            OTHER|                A|\n",
      "|                 Post|             API|    XPRM-5386_G9|         GROUP_OPEN|          ANDROID|             null|\n",
      "+---------------------+----------------+----------------+-------------------+-----------------+-----------------+\n",
      "only showing top 3 rows\n",
      "\n"
     ]
    }
   ],
   "source": [
    "df.select(colType(\"StringType\"): _*).show(3)"
   ]
  },
  {
   "cell_type": "code",
   "execution_count": 15,
   "metadata": {},
   "outputs": [
    {
     "name": "stdout",
     "output_type": "stream",
     "text": [
      "+--------------------+----------------+\n",
      "|    metadata_options|        feedback|\n",
      "+--------------------+----------------+\n",
      "|[HAS_TEXT, HAS_PH...|         [Liked]|\n",
      "|[HAS_TEXT, HAS_PH...|[Clicked, Liked]|\n",
      "|[IS_PART_OF_TOPIC...|         [Liked]|\n",
      "+--------------------+----------------+\n",
      "only showing top 3 rows\n",
      "\n"
     ]
    }
   ],
   "source": [
    "df.select(colType(\"ArrayType(StringType,true)\"): _*).show(3)"
   ]
  },
  {
   "cell_type": "code",
   "execution_count": 15,
   "metadata": {},
   "outputs": [],
   "source": [
    "// summary report - data audit : TODO"
   ]
  },
  {
   "cell_type": "code",
   "execution_count": null,
   "metadata": {},
   "outputs": [],
   "source": []
  },
  {
   "cell_type": "code",
   "execution_count": 18,
   "metadata": {},
   "outputs": [],
   "source": [
    "// 3. Постройте топ популярных групп на портале"
   ]
  },
  {
   "cell_type": "code",
   "execution_count": 19,
   "metadata": {},
   "outputs": [
    {
     "name": "stdout",
     "output_type": "stream",
     "text": [
      "+---------+--------+--------+\n",
      "| feedback|   count|fraction|\n",
      "+---------+--------+--------+\n",
      "|  Ignored|12421394|    0.68|\n",
      "|    Liked| 3220429|    0.18|\n",
      "|  Clicked| 2258630|    0.12|\n",
      "| Disliked| 1665403|    0.09|\n",
      "| ReShared|  321631|    0.02|\n",
      "|   Viewed|  170031|    0.01|\n",
      "|Commented|   36244|     0.0|\n",
      "|  Unliked|   33428|     0.0|\n",
      "|Complaint|     263|     0.0|\n",
      "+---------+--------+--------+\n",
      "\n"
     ]
    }
   ],
   "source": [
    "// Посмотрим, что лежит в feedback\n",
    "\n",
    "(\n",
    "    df\n",
    "    .select(\"feedback\")\n",
    "    .withColumn(\"feedback\", explode($\"feedback\"))\n",
    "    .groupBy(\"feedback\")\n",
    "    .count()\n",
    "    .orderBy(desc(\"count\"))\n",
    "    .withColumn(\"fraction\", round($\"count\"/ shape._1, 2))\n",
    "    .show()\n",
    ")\n"
   ]
  },
  {
   "cell_type": "code",
   "execution_count": null,
   "metadata": {},
   "outputs": [],
   "source": [
    "// spark.catalog.clearCache()\n",
    "// spark.close()\n",
    "// spark.stop()"
   ]
  },
  {
   "cell_type": "code",
   "execution_count": 20,
   "metadata": {},
   "outputs": [
    {
     "name": "stdout",
     "output_type": "stream",
     "text": [
      "SAMPLE\n",
      "+----------+----+--------+--------+------+----------------+-----+--------+----------+\n",
      "|      date|hour|authorId|objectId|userId|        feedback|Liked|Disliked|Interacted|\n",
      "+----------+----+--------+--------+------+----------------+-----+--------+----------+\n",
      "|2018-03-04|  20|   73356|18452434|   108|         [Liked]|    1|       0|         1|\n",
      "|2018-03-04|  21|  828613|31980032|   231|[Clicked, Liked]|    1|       0|         1|\n",
      "|2018-03-04|  16| 1076820|33834009|   423|         [Liked]|    1|       0|         1|\n",
      "|2018-03-04|   7|  608137|25653019|   624|       [Ignored]|    0|       0|         0|\n",
      "|2018-03-04|  16|  565604|24024934|   768|       [Ignored]|    0|       0|         0|\n",
      "|2018-03-04|  10|  981198|25075524|  1206|       [Ignored]|    0|       0|         0|\n",
      "|2018-03-04|   7|  579806|18132300|  1752|[Clicked, Liked]|    1|       0|         1|\n",
      "|2018-03-04|   7|  200111| 2402728|  1752|         [Liked]|    1|       0|         1|\n",
      "|2018-03-04|  10|  980484|17153719|  1752|       [Ignored]|    0|       0|         0|\n",
      "|2018-03-04|  16|  551826|19499734|  2514|       [Ignored]|    0|       0|         0|\n",
      "+----------+----+--------+--------+------+----------------+-----+--------+----------+\n",
      "only showing top 10 rows\n",
      "\n",
      "GROUP\n",
      "+--------+-------+--------+--------+----+---+----+\n",
      "|authorId|baseAll|objShare|usrShare| lik|dis| act|\n",
      "+--------+-------+--------+--------+----+---+----+\n",
      "|  594599|   4377|     301|    3866| 427|416|1664|\n",
      "|  910558|   7218|    1218|    6464| 904|627|2737|\n",
      "|  973581|    248|      63|     222|  45| 22|  58|\n",
      "|  676207|    338|     126|     326|  38| 29|  69|\n",
      "|  166160|   7148|     265|    6485|1679|588|2188|\n",
      "|  292708|   3597|     281|    2747| 211|668|1067|\n",
      "|   99621|   8964|     221|    8148|2268|559|2711|\n",
      "|  799670|   5107|     811|    4038| 575|660|1704|\n",
      "|  769631|    836|      37|     798|  11| 77|  96|\n",
      "|  320508|      1|       1|       1|   0|  0|   0|\n",
      "+--------+-------+--------+--------+----+---+----+\n",
      "only showing top 10 rows\n",
      "\n",
      "PROXY\n",
      "+--------+--------+--------+--------+---------+---------+\n",
      "|authorId|shareAll|shareObj|shareUsr|likesMore|interMore|\n",
      "+--------+--------+--------+--------+---------+---------+\n",
      "|  594599|  0.0239|  0.0023|  5.4556|     0.25|    38.02|\n",
      "|  910558|  0.0395|  0.0095|  9.1218|     3.84|    37.92|\n",
      "|  973581|  0.0014|  5.0E-4|  0.3133|     9.27|    23.39|\n",
      "|  676207|  0.0018|   0.001|    0.46|     2.66|    20.41|\n",
      "|  166160|  0.0391|  0.0021|  9.1515|    15.26|    30.61|\n",
      "|  292708|  0.0197|  0.0022|  3.8765|   -12.71|    29.66|\n",
      "|   99621|   0.049|  0.0017| 11.4982|    19.07|    30.24|\n",
      "|  799670|  0.0279|  0.0063|  5.6983|    -1.66|    33.37|\n",
      "|  769631|  0.0046|  3.0E-4|  1.1261|    -7.89|    11.48|\n",
      "|  320508|     0.0|     0.0|  0.0014|      0.0|      0.0|\n",
      "+--------+--------+--------+--------+---------+---------+\n",
      "only showing top 10 rows\n",
      "\n",
      "RANKING\n",
      "+--------+--------+--------+--------+---------+---------+------+------+------+------+------+--------+\n",
      "|authorId|shareAll|shareObj|shareUsr|likesMore|interMore|    R1|    R2|    R3|    R4|    R5|    avgR|\n",
      "+--------+--------+--------+--------+---------+---------+------+------+------+------+------+--------+\n",
      "|  688041|  0.0056|  3.0E-4|  1.4281|    45.09|    50.69|295914|284790|296068|281493|244813|54966.25|\n",
      "| 1051082|  0.0029|  3.0E-4|  0.7536|    47.01|    51.12|294229|284790|294581|281595|244897|54934.06|\n",
      "| 1119893|  8.0E-4|  7.0E-4|  0.1947|    36.23|     55.8|287732|292956|288190|279315|247057|54784.59|\n",
      "|  185688|   0.003|  3.0E-4|  0.7649|    39.02|    50.09|294348|284790|294623|279874|244767|54757.49|\n",
      "|  618013|  0.0034|  2.0E-4|  0.8622|    34.09|    50.49|294735|277200|294962|279103|244784|54540.09|\n",
      "|  388312|  0.0016|  2.0E-4|   0.398|    37.68|     50.7|291825|277200|292127|279766|244816|54522.19|\n",
      "|  453953|  6.0E-4|  4.0E-4|  0.1298|    34.82|    50.89|285324|288355|285035|279154|244848|54478.84|\n",
      "| 1042068|  2.0E-4|  1.0E-4|  0.0395|    64.29|    60.71|267212|247612|268112|289134|250919|54445.95|\n",
      "|  398258|  3.0E-4|  2.0E-4|   0.072|    45.61|    57.89|276281|277200|278480|281544|248302|54445.91|\n",
      "|  817366|  2.0E-4|  2.0E-4|  0.0423|    41.94|    64.52|267212|277200|269605|281054|251887|54307.97|\n",
      "+--------+--------+--------+--------+---------+---------+------+------+------+------+------+--------+\n",
      "only showing top 10 rows\n",
      "\n"
     ]
    },
    {
     "data": {
      "text/plain": [
       "\u001b[36mcolSeq\u001b[39m: \u001b[32mSeq\u001b[39m[\u001b[32mString\u001b[39m] = \u001b[33mList\u001b[39m(\n",
       "  \u001b[32m\"date\"\u001b[39m,\n",
       "  \u001b[32m\"hour\"\u001b[39m,\n",
       "  \u001b[32m\"metadata_authorId\"\u001b[39m,\n",
       "  \u001b[32m\"instanceId_objectId\"\u001b[39m,\n",
       "  \u001b[32m\"instanceId_userId\"\u001b[39m,\n",
       "  \u001b[32m\"feedback\"\u001b[39m\n",
       ")\n",
       "\u001b[36mout\u001b[39m: \u001b[32mDataFrame\u001b[39m = [date: date, hour: int ... 7 more fields]\n",
       "\u001b[36mout1\u001b[39m: \u001b[32mDataFrame\u001b[39m = [authorId: int, baseAll: bigint ... 5 more fields]\n",
       "\u001b[36mcntAll\u001b[39m: \u001b[32mLong\u001b[39m = \u001b[32m18286575L\u001b[39m\n",
       "\u001b[36muniqObj\u001b[39m: \u001b[32mInt\u001b[39m = \u001b[32m12871510\u001b[39m\n",
       "\u001b[36muniqUsr\u001b[39m: \u001b[32mInt\u001b[39m = \u001b[32m70863\u001b[39m\n",
       "\u001b[36mout2\u001b[39m: \u001b[32mDataFrame\u001b[39m = [authorId: int, shareAll: double ... 4 more fields]\n",
       "defined \u001b[32mfunction\u001b[39m \u001b[36mspecWindow\u001b[39m\n",
       "\u001b[36mout3\u001b[39m: \u001b[32mDataFrame\u001b[39m = [authorId: int, shareAll: double ... 9 more fields]\n",
       "\u001b[36mout4\u001b[39m: \u001b[32mDataset\u001b[39m[\u001b[32mRow\u001b[39m] = [authorId: int, shareAll: double ... 10 more fields]"
      ]
     },
     "execution_count": 20,
     "metadata": {},
     "output_type": "execute_result"
    }
   ],
   "source": [
    "// Рейтинг\n",
    "\n",
    "val colSeq = Seq(\"date\", \"hour\", \"metadata_authorId\", \"instanceId_objectId\", \"instanceId_userId\", \"feedback\")\n",
    "\n",
    "val out = df\n",
    "\n",
    ".withColumn(\"hour\", hour(($\"audit_timestamp\"/1000).cast(types.TimestampType)) )\n",
    ".select(colSeq.map(col(_)): _*)\n",
    ".withColumnRenamed(\"metadata_authorId\", \"authorId\")\n",
    ".withColumnRenamed(\"instanceId_objectId\", \"objectId\")\n",
    ".withColumnRenamed(\"instanceId_userId\", \"userId\")\n",
    ".withColumn(\"Liked\", ( array_contains($\"feedback\", \"Liked\")).cast(types.IntegerType) )\n",
    ".withColumn(\"Disliked\", ( array_contains($\"feedback\", \"Disliked\")).cast(types.IntegerType) )\n",
    ".withColumn(\"Interacted\", ( !array_contains($\"feedback\", \"Ignored\")).cast(types.IntegerType) )\n",
    "\n",
    "println(\"SAMPLE\")\n",
    "out.show(10)\n",
    "\n",
    "val out1 = out\n",
    "\n",
    ".groupBy(\"authorId\")\n",
    ".agg(\n",
    "    count(\"*\").alias(\"baseAll\"), \n",
    "    countDistinct(\"objectId\").alias(\"objShare\"),\n",
    "    countDistinct(\"userId\").alias(\"usrShare\"),\n",
    "    sum(\"Liked\").alias(\"lik\"),\n",
    "    sum(\"Disliked\").alias(\"dis\"),\n",
    "    sum(\"Interacted\").alias(\"act\")\n",
    ")\n",
    "\n",
    "// baseAll       - сколько всего было фактов комуникации от данного Автора\n",
    "// objShare      - сколько уникальных объектов было показано\n",
    "// usrShare      - сколько уникальных юзеров это увидело\n",
    "// lik|dis|act   - результат коммуникации относительно baseAll\n",
    "\n",
    "println(\"GROUP\")\n",
    "out1.show(10)\n",
    "\n",
    "// расчитаем удельные промежуточные метрики\n",
    "\n",
    "val cntAll = out.count()\n",
    "val uniqObj = out.select($\"objectId\").groupBy(\"objectId\").count().first().getInt(0)\n",
    "val uniqUsr = out.select($\"userId\").groupBy(\"userId\").count().first().getInt(0)\n",
    "// val minBase = 100\n",
    "\n",
    "val out2 = out1\n",
    "// .filter($\"baseAll\" >= minBase)\n",
    "\n",
    ".withColumn( \"shareAll\", round($\"baseAll\"*100 / cntAll, 4).cast(types.DoubleType) )\n",
    ".withColumn( \"shareObj\", round($\"objShare\"*100 / uniqObj, 4).cast(types.DoubleType) )\n",
    ".withColumn( \"shareUsr\", round($\"usrShare\"*100 / uniqUsr, 4).cast(types.DoubleType) )\n",
    ".withColumn( \"likesMore\", round(($\"lik\" - $\"dis\")*100 / $\"baseAll\", 2) )\n",
    ".withColumn( \"interMore\", round($\"act\"*100 / $\"baseAll\", 2) )\n",
    "\n",
    ".select('authorId, 'shareAll, 'shareObj, 'shareUsr, 'likesMore, 'interMore)\n",
    "\n",
    "println(\"PROXY\")\n",
    "out2.show(10)\n",
    "\n",
    "def specWindow(colName: String) = org.apache.spark.sql.expressions.Window.orderBy(colName)\n",
    "\n",
    "val out3 = out2\n",
    ".withColumn(\"R1\", rank().over(specWindow(\"shareAll\")))\n",
    ".withColumn(\"R2\", rank().over(specWindow(\"shareObj\")))\n",
    ".withColumn(\"R3\", rank().over(specWindow(\"shareUsr\")))\n",
    ".withColumn(\"R4\", rank().over(specWindow(\"likesMore\")))\n",
    ".withColumn(\"R5\", rank().over(specWindow(\"interMore\")))\n",
    "\n",
    "// formula from my head = 5 10 10 50 25\n",
    "val out4 = out3\n",
    ".withColumn(\"avgR\", round(\n",
    "    (\n",
    "        out3(\"R1\")*5+out3(\"R2\")*10+out3(\"R3\")*10+out3(\"R4\")*50+out3(\"R5\")*25\n",
    "    )/500, 2)\n",
    "            .cast(types.DoubleType))\n",
    "\n",
    ".orderBy(desc(\"avgR\"))\n",
    "\n",
    "println(\"RANKING\")\n",
    "out4.show(10)\n",
    "\n"
   ]
  },
  {
   "cell_type": "code",
   "execution_count": null,
   "metadata": {},
   "outputs": [],
   "source": []
  },
  {
   "cell_type": "markdown",
   "metadata": {},
   "source": [
    "<br><br>\n",
    "**IMPORT LIBRARY FOR VISUALIZE**"
   ]
  },
  {
   "cell_type": "code",
   "execution_count": 22,
   "metadata": {},
   "outputs": [
    {
     "data": {
      "text/plain": [
       "\u001b[32mimport \u001b[39m\u001b[36m$ivy.$                                      \n",
       "\u001b[39m\n",
       "\u001b[32mimport \u001b[39m\u001b[36mplotly._, plotly.element._, plotly.layout._, plotly.Almond._\n",
       "\u001b[39m"
      ]
     },
     "execution_count": 22,
     "metadata": {},
     "output_type": "execute_result"
    }
   ],
   "source": [
    "import $ivy.`org.plotly-scala::plotly-almond:0.7.6`\n",
    "import plotly._, plotly.element._, plotly.layout._, plotly.Almond._\n",
    "repl.pprinter() = repl.pprinter().copy(defaultHeight = 3)"
   ]
  },
  {
   "cell_type": "code",
   "execution_count": 23,
   "metadata": {},
   "outputs": [
    {
     "name": "stdout",
     "output_type": "stream",
     "text": [
      "+----+----------+\n",
      "|hour|Interacted|\n",
      "+----+----------+\n",
      "|   0|     55733|\n",
      "|   1|     76503|\n",
      "|   2|    107668|\n",
      "|   3|    157802|\n",
      "|   4|    208885|\n",
      "|   5|    251970|\n",
      "|   6|    267698|\n",
      "|   7|    272816|\n",
      "|   8|    275905|\n",
      "|   9|    279034|\n",
      "|  10|    288987|\n",
      "|  11|    299312|\n",
      "|  12|    315781|\n",
      "|  13|    336393|\n",
      "|  14|    365712|\n",
      "|  15|    395531|\n",
      "|  16|    414272|\n",
      "|  17|    410942|\n",
      "|  18|    378458|\n",
      "|  19|    290172|\n",
      "|  20|    190048|\n",
      "|  21|    109330|\n",
      "|  22|     65414|\n",
      "|  23|     50815|\n",
      "+----+----------+\n",
      "\n",
      "Vector(0, 1, 2, 3, 4, 5, 6, 7, 8, 9, 10, 11, 12, 13, 14, 15, 16, 17, 18, 19, 20, 21, 22, 23)\n",
      "Vector(55733, 76503, 107668, 157802, 208885, 251970, 267698, 272816, 275905, 279034, 288987, 299312, 315781, 336393, 365712, 395531, 414272, 410942, 378458, 290172, 190048, 109330, 65414, 50815)\n"
     ]
    },
    {
     "data": {
      "text/plain": [
       "\u001b[36mhist1\u001b[39m: \u001b[32mDataset\u001b[39m[\u001b[32mRow\u001b[39m] = [hour: int, Interacted: bigint]\n",
       "\u001b[36mhist\u001b[39m: \u001b[32mVector\u001b[39m[\u001b[32mVector\u001b[39m[\u001b[32mInt\u001b[39m]] = \u001b[33mVector\u001b[39m(\n",
       "  \u001b[33mVector\u001b[39m(\n",
       "..."
      ]
     },
     "execution_count": 23,
     "metadata": {},
     "output_type": "execute_result"
    }
   ],
   "source": [
    "// 4. Построите гистограммы популярности/активности групп на портале по времени суток\n",
    "\n",
    "val hist1 = (\n",
    "    out\n",
    "    .select('hour, 'Interacted)\n",
    "    .groupBy('hour)\n",
    "    .agg(sum('Interacted).alias(\"Interacted\"))\n",
    "    .orderBy('hour)\n",
    ").cache()\n",
    "\n",
    "hist1.show(24)\n",
    "\n",
    "val hist = hist1.collect().map(_.toSeq.map(_.toString).map(_.toInt).toVector).toVector.transpose\n",
    "\n",
    "hist.foreach(println)"
   ]
  },
  {
   "cell_type": "markdown",
   "metadata": {},
   "source": [
    "### https://alexarchambault.github.io/plotly-scala/"
   ]
  },
  {
   "cell_type": "code",
   "execution_count": 24,
   "metadata": {},
   "outputs": [
    {
     "data": {
      "text/html": [
       "\n",
       "      <script type=\"text/javascript\">\n",
       "        require.config({\n",
       "  paths: {\n",
       "    d3: 'https://cdnjs.cloudflare.com/ajax/libs/d3/3.5.17/d3.min',\n",
       "    plotly: 'https://cdn.plot.ly/plotly-1.52.2.min',\n",
       "    jquery: 'https://code.jquery.com/jquery-3.3.1.min'\n",
       "  },\n",
       "\n",
       "  shim: {\n",
       "    plotly: {\n",
       "      deps: ['d3', 'jquery'],\n",
       "      exports: 'plotly'\n",
       "    }\n",
       "  }\n",
       "});\n",
       "        \n",
       "\n",
       "        require(['plotly'], function(Plotly) {\n",
       "          window.Plotly = Plotly;\n",
       "        });\n",
       "      </script>\n",
       "    "
      ]
     },
     "metadata": {},
     "output_type": "display_data"
    },
    {
     "data": {
      "application/vnd.plotly.v1+json": {
       "config": {
        "editable": false,
        "responsive": false,
        "showEditInChartStudio": false
       },
       "data": [
        {
         "marker": {
          "line": {
           "width": 1.5
          },
          "opacity": 0.6
         },
         "type": "bar",
         "x": [
          0,
          1,
          2,
          3,
          4,
          5,
          6,
          7,
          8,
          9,
          10,
          11,
          12,
          13,
          14,
          15,
          16,
          17,
          18,
          19,
          20,
          21,
          22,
          23
         ],
         "y": [
          55,
          76,
          107,
          157,
          208,
          251,
          267,
          272,
          275,
          279,
          288,
          299,
          315,
          336,
          365,
          395,
          414,
          410,
          378,
          290,
          190,
          109,
          65,
          50
         ]
        }
       ],
       "layout": {
        "annotations": [
         {
          "showarrow": false,
          "text": "55",
          "x": 0,
          "xanchor": "center",
          "y": 55,
          "yanchor": "bottom"
         },
         {
          "showarrow": false,
          "text": "76",
          "x": 1,
          "xanchor": "center",
          "y": 76,
          "yanchor": "bottom"
         },
         {
          "showarrow": false,
          "text": "107",
          "x": 2,
          "xanchor": "center",
          "y": 107,
          "yanchor": "bottom"
         },
         {
          "showarrow": false,
          "text": "157",
          "x": 3,
          "xanchor": "center",
          "y": 157,
          "yanchor": "bottom"
         },
         {
          "showarrow": false,
          "text": "208",
          "x": 4,
          "xanchor": "center",
          "y": 208,
          "yanchor": "bottom"
         },
         {
          "showarrow": false,
          "text": "251",
          "x": 5,
          "xanchor": "center",
          "y": 251,
          "yanchor": "bottom"
         },
         {
          "showarrow": false,
          "text": "267",
          "x": 6,
          "xanchor": "center",
          "y": 267,
          "yanchor": "bottom"
         },
         {
          "showarrow": false,
          "text": "272",
          "x": 7,
          "xanchor": "center",
          "y": 272,
          "yanchor": "bottom"
         },
         {
          "showarrow": false,
          "text": "275",
          "x": 8,
          "xanchor": "center",
          "y": 275,
          "yanchor": "bottom"
         },
         {
          "showarrow": false,
          "text": "279",
          "x": 9,
          "xanchor": "center",
          "y": 279,
          "yanchor": "bottom"
         },
         {
          "showarrow": false,
          "text": "288",
          "x": 10,
          "xanchor": "center",
          "y": 288,
          "yanchor": "bottom"
         },
         {
          "showarrow": false,
          "text": "299",
          "x": 11,
          "xanchor": "center",
          "y": 299,
          "yanchor": "bottom"
         },
         {
          "showarrow": false,
          "text": "315",
          "x": 12,
          "xanchor": "center",
          "y": 315,
          "yanchor": "bottom"
         },
         {
          "showarrow": false,
          "text": "336",
          "x": 13,
          "xanchor": "center",
          "y": 336,
          "yanchor": "bottom"
         },
         {
          "showarrow": false,
          "text": "365",
          "x": 14,
          "xanchor": "center",
          "y": 365,
          "yanchor": "bottom"
         },
         {
          "showarrow": false,
          "text": "395",
          "x": 15,
          "xanchor": "center",
          "y": 395,
          "yanchor": "bottom"
         },
         {
          "showarrow": false,
          "text": "414",
          "x": 16,
          "xanchor": "center",
          "y": 414,
          "yanchor": "bottom"
         },
         {
          "showarrow": false,
          "text": "410",
          "x": 17,
          "xanchor": "center",
          "y": 410,
          "yanchor": "bottom"
         },
         {
          "showarrow": false,
          "text": "378",
          "x": 18,
          "xanchor": "center",
          "y": 378,
          "yanchor": "bottom"
         },
         {
          "showarrow": false,
          "text": "290",
          "x": 19,
          "xanchor": "center",
          "y": 290,
          "yanchor": "bottom"
         },
         {
          "showarrow": false,
          "text": "190",
          "x": 20,
          "xanchor": "center",
          "y": 190,
          "yanchor": "bottom"
         },
         {
          "showarrow": false,
          "text": "109",
          "x": 21,
          "xanchor": "center",
          "y": 109,
          "yanchor": "bottom"
         },
         {
          "showarrow": false,
          "text": "65",
          "x": 22,
          "xanchor": "center",
          "y": 65,
          "yanchor": "bottom"
         },
         {
          "showarrow": false,
          "text": "50",
          "x": 23,
          "xanchor": "center",
          "y": 50,
          "yanchor": "bottom"
         }
        ],
        "title": "(1k) Interaction (Not Ignored) x Time"
       }
      },
      "text/html": [
       "<div class=\"chart\" id=\"plot-fd8c7a72-fdfd-40d4-af49-ab36f55a542a\"></div>\n",
       "<script>require(['plotly'], function(Plotly) {\n",
       "  (function () {\n",
       "  var data0 = {\"x\":[0.0,1.0,2.0,3.0,4.0,5.0,6.0,7.0,8.0,9.0,10.0,11.0,12.0,13.0,14.0,15.0,16.0,17.0,18.0,19.0,20.0,21.0,22.0,23.0],\"y\":[55.0,76.0,107.0,157.0,208.0,251.0,267.0,272.0,275.0,279.0,288.0,299.0,315.0,336.0,365.0,395.0,414.0,410.0,378.0,290.0,190.0,109.0,65.0,50.0],\"marker\":{\"line\":{\"width\":1.5},\"opacity\":0.6},\"type\":\"bar\"};\n",
       "\n",
       "  var data = [data0];\n",
       "  var layout = {\"annotations\":[{\"x\":0.0,\"y\":55.0,\"yanchor\":\"bottom\",\"text\":\"55\",\"showarrow\":false,\"xanchor\":\"center\"},{\"x\":1.0,\"y\":76.0,\"yanchor\":\"bottom\",\"text\":\"76\",\"showarrow\":false,\"xanchor\":\"center\"},{\"x\":2.0,\"y\":107.0,\"yanchor\":\"bottom\",\"text\":\"107\",\"showarrow\":false,\"xanchor\":\"center\"},{\"x\":3.0,\"y\":157.0,\"yanchor\":\"bottom\",\"text\":\"157\",\"showarrow\":false,\"xanchor\":\"center\"},{\"x\":4.0,\"y\":208.0,\"yanchor\":\"bottom\",\"text\":\"208\",\"showarrow\":false,\"xanchor\":\"center\"},{\"x\":5.0,\"y\":251.0,\"yanchor\":\"bottom\",\"text\":\"251\",\"showarrow\":false,\"xanchor\":\"center\"},{\"x\":6.0,\"y\":267.0,\"yanchor\":\"bottom\",\"text\":\"267\",\"showarrow\":false,\"xanchor\":\"center\"},{\"x\":7.0,\"y\":272.0,\"yanchor\":\"bottom\",\"text\":\"272\",\"showarrow\":false,\"xanchor\":\"center\"},{\"x\":8.0,\"y\":275.0,\"yanchor\":\"bottom\",\"text\":\"275\",\"showarrow\":false,\"xanchor\":\"center\"},{\"x\":9.0,\"y\":279.0,\"yanchor\":\"bottom\",\"text\":\"279\",\"showarrow\":false,\"xanchor\":\"center\"},{\"x\":10.0,\"y\":288.0,\"yanchor\":\"bottom\",\"text\":\"288\",\"showarrow\":false,\"xanchor\":\"center\"},{\"x\":11.0,\"y\":299.0,\"yanchor\":\"bottom\",\"text\":\"299\",\"showarrow\":false,\"xanchor\":\"center\"},{\"x\":12.0,\"y\":315.0,\"yanchor\":\"bottom\",\"text\":\"315\",\"showarrow\":false,\"xanchor\":\"center\"},{\"x\":13.0,\"y\":336.0,\"yanchor\":\"bottom\",\"text\":\"336\",\"showarrow\":false,\"xanchor\":\"center\"},{\"x\":14.0,\"y\":365.0,\"yanchor\":\"bottom\",\"text\":\"365\",\"showarrow\":false,\"xanchor\":\"center\"},{\"x\":15.0,\"y\":395.0,\"yanchor\":\"bottom\",\"text\":\"395\",\"showarrow\":false,\"xanchor\":\"center\"},{\"x\":16.0,\"y\":414.0,\"yanchor\":\"bottom\",\"text\":\"414\",\"showarrow\":false,\"xanchor\":\"center\"},{\"x\":17.0,\"y\":410.0,\"yanchor\":\"bottom\",\"text\":\"410\",\"showarrow\":false,\"xanchor\":\"center\"},{\"x\":18.0,\"y\":378.0,\"yanchor\":\"bottom\",\"text\":\"378\",\"showarrow\":false,\"xanchor\":\"center\"},{\"x\":19.0,\"y\":290.0,\"yanchor\":\"bottom\",\"text\":\"290\",\"showarrow\":false,\"xanchor\":\"center\"},{\"x\":20.0,\"y\":190.0,\"yanchor\":\"bottom\",\"text\":\"190\",\"showarrow\":false,\"xanchor\":\"center\"},{\"x\":21.0,\"y\":109.0,\"yanchor\":\"bottom\",\"text\":\"109\",\"showarrow\":false,\"xanchor\":\"center\"},{\"x\":22.0,\"y\":65.0,\"yanchor\":\"bottom\",\"text\":\"65\",\"showarrow\":false,\"xanchor\":\"center\"},{\"x\":23.0,\"y\":50.0,\"yanchor\":\"bottom\",\"text\":\"50\",\"showarrow\":false,\"xanchor\":\"center\"}],\"title\":\"(1k) Interaction (Not Ignored) x Time\"};\n",
       " var config = {\"showEditInChartStudio\":false,\"responsive\":false,\"editable\":false};\n",
       "\n",
       "  Plotly.plot('plot-fd8c7a72-fdfd-40d4-af49-ab36f55a542a', data, layout, config);\n",
       "})();\n",
       "});\n",
       "      </script>\n",
       "           "
      ]
     },
     "metadata": {},
     "output_type": "display_data"
    },
    {
     "data": {
      "text/plain": [
       "\u001b[36mh0\u001b[39m: \u001b[32mVector\u001b[39m[\u001b[32mInt\u001b[39m] = \u001b[33mVector\u001b[39m(\n",
       "  \u001b[32m0\u001b[39m,\n",
       "...\n",
       "\u001b[36mh1\u001b[39m: \u001b[32mVector\u001b[39m[\u001b[32mInt\u001b[39m] = \u001b[33mVector\u001b[39m(\n",
       "  \u001b[32m55\u001b[39m,\n",
       "...\n",
       "\u001b[36mtrace1\u001b[39m: \u001b[32mBar\u001b[39m = \u001b[33mBar\u001b[39m(\n",
       "  \u001b[33mDoubles\u001b[39m(\n",
       "...\n",
       "\u001b[36mdata\u001b[39m: \u001b[32mSeq\u001b[39m[\u001b[32mBar\u001b[39m] = \u001b[33mList\u001b[39m(\n",
       "  \u001b[33mBar\u001b[39m(\n",
       "...\n",
       "\u001b[36mannotations\u001b[39m: \u001b[32mVector\u001b[39m[\u001b[32mAnnotation\u001b[39m] = \u001b[33mVector\u001b[39m(\n",
       "  \u001b[33mAnnotation\u001b[39m(\n",
       "...\n",
       "\u001b[36mlayout\u001b[39m: \u001b[32mLayout\u001b[39m = \u001b[33mLayout\u001b[39m(\n",
       "  \u001b[33mSome\u001b[39m(\u001b[32m\"(1k) Interaction (Not Ignored) x Time\"\u001b[39m),\n",
       "...\n",
       "\u001b[36mplt\u001b[39m: \u001b[32mString\u001b[39m = \u001b[32m\"plot-fd8c7a72-fdfd-40d4-af49-ab36f55a542a\"\u001b[39m"
      ]
     },
     "execution_count": 24,
     "metadata": {},
     "output_type": "execute_result"
    }
   ],
   "source": [
    "val h0 = hist(0)\n",
    "val h1 = hist(1).map(x =>(x/1000).toInt)\n",
    "\n",
    "val trace1 = Bar( h0, h1, marker = Marker(opacity = 0.6, line = Line(width = 1.5)))\n",
    "\n",
    "val data = Seq(trace1)\n",
    "\n",
    "val annotations = h0.zip(h1).map {\n",
    "  case (x, y) =>\n",
    "    Annotation(\n",
    "      x = x,\n",
    "      y = y,\n",
    "      text = y.toString,\n",
    "      xanchor = Anchor.Center,\n",
    "      yanchor = Anchor.Bottom,\n",
    "      showarrow = false\n",
    "    )\n",
    "}\n",
    "\n",
    "val layout = Layout(\n",
    "  title = \"(1k) Interaction (Not Ignored) x Time\",\n",
    "  annotations = annotations\n",
    ")\n",
    "\n",
    "val plt = plot(data, layout)\n"
   ]
  },
  {
   "cell_type": "markdown",
   "metadata": {},
   "source": [
    "![title](img/hist1.png)"
   ]
  },
  {
   "cell_type": "code",
   "execution_count": null,
   "metadata": {},
   "outputs": [],
   "source": []
  },
  {
   "cell_type": "code",
   "execution_count": 26,
   "metadata": {},
   "outputs": [
    {
     "name": "stdout",
     "output_type": "stream",
     "text": [
      "StringType: 6\n",
      "LongType: 17\n",
      "IntegerType: 32\n",
      "ArrayType(StringType,true): 2\n",
      "DoubleType: 111\n",
      "DateType: 1\n"
     ]
    },
    {
     "data": {
      "text/plain": [
       "defined \u001b[32mfunction\u001b[39m \u001b[36mcorrWith_target\u001b[39m\n",
       "defined \u001b[32mfunction\u001b[39m \u001b[36mrnd\u001b[39m"
      ]
     },
     "execution_count": 26,
     "metadata": {},
     "output_type": "execute_result"
    }
   ],
   "source": [
    "// 5. Посчитайте корреляцию признаков с целевой переменной\n",
    "\n",
    "// TODO: make distibuted \n",
    "// TODO: реализовать через Statistics.corr with Spearman`s Ro\n",
    "// TODO: compaired group target=0 vs target=1 with criteria\n",
    "\n",
    "colType.foreach {case (key, value) => println (f\"$key: ${value.length}\")}\n",
    "\n",
    "def corrWith_target(Type: String, df: org.apache.spark.sql.DataFrame) = {\n",
    "\n",
    "    val df1 = df.withColumn(\"target\", array_contains($\"feedback\", \"Liked\").cast(types.IntegerType))\n",
    "    .select(Array($\"target\") ++ colType(Type): _*)\n",
    "    \n",
    "    val corr = df1.columns.map\n",
    "        {\n",
    "            x => x -> df1.filter(f\"$x is not null\").stat.corr(\"target\", x.toString)\n",
    "        }\n",
    "\n",
    "    corr.filterNot(_._2.isNaN).map( x => ( x._1, rnd(x._2, 5) ) )\n",
    "    \n",
    "}\n",
    "\n",
    "def rnd(v: Double, p: Int) = BigDecimal(v).setScale(p, BigDecimal.RoundingMode.HALF_UP).toDouble\n"
   ]
  },
  {
   "cell_type": "code",
   "execution_count": 27,
   "metadata": {
    "scrolled": true
   },
   "outputs": [
    {
     "data": {
      "text/plain": [
       "\u001b[36mcorr_1\u001b[39m: \u001b[32mArray\u001b[39m[(\u001b[32mString\u001b[39m, \u001b[32mDouble\u001b[39m)] = \u001b[33mArray\u001b[39m(\n",
       "  (\u001b[32m\"target\"\u001b[39m, \u001b[32m1.0\u001b[39m),\n",
       "..."
      ]
     },
     "execution_count": 27,
     "metadata": {},
     "output_type": "execute_result"
    }
   ],
   "source": [
    "val corr_1 = corrWith_target(\"LongType\", df)"
   ]
  },
  {
   "cell_type": "code",
   "execution_count": 28,
   "metadata": {},
   "outputs": [
    {
     "name": "stdout",
     "output_type": "stream",
     "text": [
      "(target,1.0)\n",
      "(audit_pos,0.00576)\n",
      "(audit_timestamp,-0.00196)\n",
      "(audit_timePassed,0.01353)\n",
      "(audit_resourceType,0.04557)\n",
      "(metadata_createdAt,7.3E-4)\n",
      "(membership_statusUpdateDate,0.04154)\n",
      "(membership_joinDate,0.04272)\n",
      "(membership_joinRequestDate,-0.00739)\n",
      "(user_create_date,0.03765)\n",
      "(user_ID_country,8.0E-5)\n",
      "(user_change_datime,0.03554)\n",
      "(auditweights_x_ActorsRelations,-0.011)\n"
     ]
    }
   ],
   "source": [
    "corr_1.foreach(println)"
   ]
  },
  {
   "cell_type": "code",
   "execution_count": 29,
   "metadata": {
    "scrolled": true
   },
   "outputs": [
    {
     "data": {
      "text/plain": [
       "\u001b[36mcorr_2\u001b[39m: \u001b[32mArray\u001b[39m[(\u001b[32mString\u001b[39m, \u001b[32mDouble\u001b[39m)] = \u001b[33mArray\u001b[39m(\n",
       "  (\u001b[32m\"target\"\u001b[39m, \u001b[32m1.0\u001b[39m),\n",
       "..."
      ]
     },
     "execution_count": 29,
     "metadata": {},
     "output_type": "execute_result"
    }
   ],
   "source": [
    "val corr_2 = corrWith_target(\"IntegerType\", df)"
   ]
  },
  {
   "cell_type": "code",
   "execution_count": 30,
   "metadata": {},
   "outputs": [
    {
     "name": "stdout",
     "output_type": "stream",
     "text": [
      "(target,1.0)\n",
      "(instanceId_userId,0.03197)\n",
      "(instanceId_objectId,0.03876)\n",
      "(metadata_ownerId,0.01168)\n",
      "(metadata_authorId,0.00723)\n",
      "(metadata_numCompanions,-0.00485)\n",
      "(metadata_numPhotos,0.01119)\n",
      "(metadata_numPolls,0.08115)\n",
      "(metadata_numSymbols,-0.03328)\n",
      "(metadata_numTokens,-0.03329)\n",
      "(metadata_numVideos,-0.01294)\n",
      "(metadata_totalVideoLength,-0.01438)\n",
      "(user_birth_date,0.02692)\n",
      "(user_gender,0.00887)\n",
      "(user_status,-0.01412)\n",
      "(user_ID_Location,0.00155)\n",
      "(user_is_active,-0.00208)\n",
      "(user_is_deleted,3.1E-4)\n",
      "(user_is_abused,0.00236)\n",
      "(user_is_activated,-1.9E-4)\n",
      "(user_is_semiactivated,-9.3E-4)\n",
      "(user_region,-0.01235)\n",
      "(objectId,0.03876)\n"
     ]
    }
   ],
   "source": [
    "corr_2.foreach(println)"
   ]
  },
  {
   "cell_type": "code",
   "execution_count": 31,
   "metadata": {
    "scrolled": true
   },
   "outputs": [
    {
     "data": {
      "text/plain": [
       "\u001b[36mcorr_3\u001b[39m: \u001b[32mArray\u001b[39m[(\u001b[32mString\u001b[39m, \u001b[32mDouble\u001b[39m)] = \u001b[33mArray\u001b[39m(\n",
       "  (\u001b[32m\"target\"\u001b[39m, \u001b[32m1.0\u001b[39m),\n",
       "..."
      ]
     },
     "execution_count": 31,
     "metadata": {},
     "output_type": "execute_result"
    }
   ],
   "source": [
    "val corr_3 = corrWith_target(\"DoubleType\", df)"
   ]
  },
  {
   "cell_type": "code",
   "execution_count": 32,
   "metadata": {},
   "outputs": [
    {
     "name": "stdout",
     "output_type": "stream",
     "text": [
      "(target,1.0)\n",
      "(userOwnerCounters_USER_FEED_REMOVE,-0.07256)\n",
      "(userOwnerCounters_UNKNOWN,-0.00269)\n",
      "(userOwnerCounters_CREATE_TOPIC,7.1E-4)\n",
      "(userOwnerCounters_CREATE_IMAGE,-0.00105)\n",
      "(userOwnerCounters_CREATE_MOVIE,8.8E-4)\n",
      "(userOwnerCounters_CREATE_COMMENT,-9.9E-4)\n",
      "(userOwnerCounters_CREATE_LIKE,0.09825)\n",
      "(userOwnerCounters_TEXT,-0.0119)\n",
      "(userOwnerCounters_IMAGE,-0.01089)\n",
      "(userOwnerCounters_VIDEO,-0.00842)\n",
      "(auditweights_ageMs,0.02956)\n",
      "(auditweights_ctr_gender,0.00303)\n",
      "(auditweights_ctr_high,0.14549)\n",
      "(auditweights_ctr_negative,-7.0E-4)\n",
      "(auditweights_dailyRecency,-0.0316)\n",
      "(auditweights_feedOwner_RECOMMENDED_GROUP,0.00669)\n",
      "(auditweights_feedStats,0.04412)\n",
      "(auditweights_friendCommentFeeds,-1.9E-4)\n",
      "(auditweights_friendCommenters,0.00449)\n",
      "(auditweights_friendLikes,0.0077)\n",
      "(auditweights_friendLikes_actors,0.01463)\n",
      "(auditweights_likersFeedStats_hyper,0.04153)\n",
      "(auditweights_likersSvd_prelaunch_hyper,0.12758)\n",
      "(auditweights_matrix,0.01874)\n",
      "(auditweights_numDislikes,0.00251)\n",
      "(auditweights_numLikes,0.01344)\n",
      "(auditweights_numShows,2.8E-4)\n",
      "(auditweights_svd_prelaunch,0.28548)\n",
      "(auditweights_svd_spark,0.28133)\n",
      "(auditweights_userAge,-0.0269)\n",
      "(auditweights_userOwner_CREATE_COMMENT,-0.00184)\n",
      "(auditweights_userOwner_CREATE_IMAGE,0.05621)\n",
      "(auditweights_userOwner_CREATE_LIKE,0.11746)\n",
      "(auditweights_userOwner_IMAGE,-0.03363)\n",
      "(auditweights_userOwner_TEXT,-0.04839)\n",
      "(auditweights_userOwner_UNKNOWN,-0.00966)\n",
      "(auditweights_userOwner_USER_FEED_REMOVE,-0.11466)\n",
      "(auditweights_userOwner_VIDEO,-0.02045)\n",
      "(auditweights_likersSvd_spark_hyper,0.1389)\n"
     ]
    }
   ],
   "source": [
    "corr_3.foreach(println)"
   ]
  },
  {
   "cell_type": "code",
   "execution_count": null,
   "metadata": {},
   "outputs": [],
   "source": [
    "// корреляции - говно, нужно предобрабатывать данные, да и корреляция с бинарным признаком - плохая идея"
   ]
  },
  {
   "cell_type": "code",
   "execution_count": null,
   "metadata": {},
   "outputs": [],
   "source": []
  },
  {
   "cell_type": "code",
   "execution_count": 16,
   "metadata": {},
   "outputs": [],
   "source": [
    "spark.catalog.clearCache()\n",
    "spark.close()\n",
    "spark.stop()"
   ]
  },
  {
   "cell_type": "code",
   "execution_count": null,
   "metadata": {},
   "outputs": [],
   "source": []
  },
  {
   "cell_type": "code",
   "execution_count": null,
   "metadata": {},
   "outputs": [],
   "source": []
  },
  {
   "cell_type": "code",
   "execution_count": null,
   "metadata": {},
   "outputs": [],
   "source": [
    "// 6. Найдите другие интересные инсайты в данных :)\n",
    "// TODO\n",
    "\n",
    "// 1 балл - за каждый дополнительный интересный вывод, построенный на данных датасета\n",
    "\n",
    "// а баллы которые начисляют за задания на что в конце обменять можно?\n",
    "// интересно что за баллы такие ...\n"
   ]
  },
  {
   "cell_type": "code",
   "execution_count": null,
   "metadata": {},
   "outputs": [],
   "source": []
  },
  {
   "cell_type": "code",
   "execution_count": null,
   "metadata": {},
   "outputs": [],
   "source": []
  },
  {
   "cell_type": "code",
   "execution_count": null,
   "metadata": {},
   "outputs": [],
   "source": [
    "// (\n",
    "//     df\n",
    "//     .select($\"date\", $\"audit_timestamp\")\n",
    "//     .withColumn(\"audit_hhmm\", hour( ($\"audit_timestamp\"/1000).cast(types.TimestampType))*100 + minute( ($\"audit_timestamp\"/1000).cast(types.TimestampType) ) )\n",
    "//     .withColumn(\"audit_timestamp\", ($\"audit_timestamp\"/1000).cast(types.TimestampType))\n",
    "//     .show(3, false)\n",
    "// )"
   ]
  },
  {
   "cell_type": "code",
   "execution_count": null,
   "metadata": {},
   "outputs": [],
   "source": [
    "// import org.apache.spark.mllib.linalg._\n",
    "// import org.apache.spark.mllib.stat.Statistics\n",
    "// import org.apache.spark.rdd.RDD\n",
    "\n",
    "// val sc = spark.sparkContext\n",
    "\n",
    "// val seriesX: RDD[Double] = sc.parallelize(Array(1, 2, 3, 3, 5))  // a series\n",
    "// // must have the same number of partitions and cardinality as seriesX\n",
    "// val seriesY: RDD[Double] = sc.parallelize(Array(11, 22, 33, 33, 555))\n",
    "\n",
    "// // compute the correlation using Pearson's method. Enter \"spearman\" for Spearman's method. If a\n",
    "// // method is not specified, Pearson's method will be used by default.\n",
    "// val correlation: Double = Statistics.corr(seriesX, seriesY, \"pearson\")\n",
    "// println(s\"Correlation is: $correlation\")\n",
    "\n",
    "// val data: RDD[Vector] = sc.parallelize(\n",
    "//   Seq(\n",
    "//     Vectors.dense(1.0, 10.0, 100.0),\n",
    "//     Vectors.dense(2.0, 20.0, 200.0),\n",
    "//     Vectors.dense(5.0, 33.0, 366.0))\n",
    "// )  // note that each Vector is a row and not a column\n",
    "\n",
    "// // calculate the correlation matrix using Pearson's method. Use \"spearman\" for Spearman's method\n",
    "// // If a method is not specified, Pearson's method will be used by default.\n",
    "// val correlMatrix: Matrix = Statistics.corr(data, \"pearson\")\n",
    "// println(correlMatrix.toString)\n"
   ]
  },
  {
   "cell_type": "code",
   "execution_count": null,
   "metadata": {},
   "outputs": [],
   "source": []
  },
  {
   "cell_type": "code",
   "execution_count": null,
   "metadata": {},
   "outputs": [],
   "source": []
  }
 ],
 "metadata": {
  "kernelspec": {
   "display_name": "Scala 2.12",
   "language": "scala",
   "name": "scala212"
  },
  "language_info": {
   "codemirror_mode": "text/x-scala",
   "file_extension": ".sc",
   "mimetype": "text/x-scala",
   "name": "scala",
   "nbconvert_exporter": "script",
   "version": "2.12.12"
  }
 },
 "nbformat": 4,
 "nbformat_minor": 4
}
