{
 "cells": [
  {
   "cell_type": "markdown",
   "metadata": {},
   "source": [
    "<br>**intro**"
   ]
  },
  {
   "cell_type": "code",
   "execution_count": 2,
   "metadata": {},
   "outputs": [
    {
     "data": {
      "text/plain": [
       "\u001b[32mimport \u001b[39m\u001b[36msys.process._\u001b[39m"
      ]
     },
     "execution_count": 2,
     "metadata": {},
     "output_type": "execute_result"
    }
   ],
   "source": [
    "import sys.process._"
   ]
  },
  {
   "cell_type": "code",
   "execution_count": 3,
   "metadata": {},
   "outputs": [
    {
     "name": "stdout",
     "output_type": "stream",
     "text": [
      "/home/jovyan/work/notebooks\n"
     ]
    },
    {
     "data": {
      "text/plain": [
       "\u001b[36mres2\u001b[39m: \u001b[32mInt\u001b[39m = \u001b[32m0\u001b[39m"
      ]
     },
     "execution_count": 3,
     "metadata": {},
     "output_type": "execute_result"
    }
   ],
   "source": [
    "\"pwd\" !"
   ]
  },
  {
   "cell_type": "code",
   "execution_count": 4,
   "metadata": {},
   "outputs": [
    {
     "name": "stdout",
     "output_type": "stream",
     "text": [
      "total 8\n",
      "drwxrwxrwx  2 jovyan 1000 4096 Sep 10 09:54 test\n",
      "drwxrwxrwx 50 jovyan 1000 4096 Aug 26 17:56 train\n"
     ]
    },
    {
     "data": {
      "text/plain": [
       "\u001b[36mres3\u001b[39m: \u001b[32mInt\u001b[39m = \u001b[32m0\u001b[39m"
      ]
     },
     "execution_count": 4,
     "metadata": {},
     "output_type": "execute_result"
    }
   ],
   "source": [
    "\"ls -l ../data/raw/\" !"
   ]
  },
  {
   "cell_type": "code",
   "execution_count": 5,
   "metadata": {},
   "outputs": [
    {
     "name": "stdout",
     "output_type": "stream",
     "text": [
      "2.2G\t../data/raw/train/\n"
     ]
    },
    {
     "data": {
      "text/plain": [
       "\u001b[36mraw_data\u001b[39m: \u001b[32mString\u001b[39m = \u001b[32m\"../data/raw/train/\"\u001b[39m\n",
       "\u001b[36mres4_1\u001b[39m: \u001b[32mInt\u001b[39m = \u001b[32m0\u001b[39m"
      ]
     },
     "execution_count": 5,
     "metadata": {},
     "output_type": "execute_result"
    }
   ],
   "source": [
    "val raw_data = \"../data/raw/train/\"\n",
    "f\"du -s -h $raw_data\" !"
   ]
  },
  {
   "cell_type": "code",
   "execution_count": 15,
   "metadata": {},
   "outputs": [
    {
     "name": "stdout",
     "output_type": "stream",
     "text": [
      "Getting spark JARs\n",
      "Creating SparkSession\n"
     ]
    },
    {
     "data": {
      "text/plain": [
       "\u001b[32mimport \u001b[39m\u001b[36m$ivy.$                                  \n",
       "\u001b[39m\n",
       "\u001b[32mimport \u001b[39m\u001b[36m$ivy.$                                    \n",
       "\n",
       "\u001b[39m\n",
       "\u001b[32mimport \u001b[39m\u001b[36morg.apache.log4j.{Level, Logger}\n",
       "\u001b[39m\n",
       "\u001b[32mimport \u001b[39m\u001b[36morg.apache.spark.sql._\n",
       "\u001b[39m\n",
       "\u001b[32mimport \u001b[39m\u001b[36morg.apache.spark.sql.functions._\n",
       "\n",
       "\n",
       "\u001b[39m\n",
       "\u001b[36mspark\u001b[39m: \u001b[32mSparkSession\u001b[39m = org.apache.spark.sql.SparkSession@329c73c1\n",
       "\u001b[32mimport \u001b[39m\u001b[36mspark.implicits._\n",
       "//Using Spark's default log4j profile: org/apache/spark/log4j-defaults.properties\u001b[39m"
      ]
     },
     "execution_count": 15,
     "metadata": {},
     "output_type": "execute_result"
    }
   ],
   "source": [
    "import $ivy.`org.apache.spark::spark-sql:2.4.5`\n",
    "import $ivy.`org.apache.spark::spark-mllib:2.4.5`\n",
    "\n",
    "import org.apache.log4j.{Level, Logger}\n",
    "Logger.getLogger(\"org\").setLevel(Level.OFF)\n",
    "\n",
    "import org.apache.spark.sql._\n",
    "import org.apache.spark.sql.functions._\n",
    "\n",
    "\n",
    "val spark = (\n",
    "    AmmoniteSparkSession\n",
    "    .builder()\n",
    "    .master(\"local[*]\")\n",
    "    .getOrCreate()\n",
    ")\n",
    "\n",
    "import spark.implicits._\n",
    "//Using Spark's default log4j profile: org/apache/spark/log4j-defaults.properties"
   ]
  },
  {
   "cell_type": "code",
   "execution_count": 11,
   "metadata": {},
   "outputs": [],
   "source": [
    "// spark.catalog.clearCache()\n",
    "// spark.close()\n",
    "// spark.stop()"
   ]
  },
  {
   "cell_type": "code",
   "execution_count": null,
   "metadata": {},
   "outputs": [],
   "source": []
  },
  {
   "cell_type": "markdown",
   "metadata": {},
   "source": [
    "**как добавить резольвер???**"
   ]
  },
  {
   "cell_type": "code",
   "execution_count": 11,
   "metadata": {},
   "outputs": [],
   "source": [
    "// resolvers += \"MMLSpark\" at \"https://mmlspark.azureedge.net/maven\"\n",
    "// libraryDependencies += \"com.microsoft.ml.spark\" %% \"mmlspark\" % \"1.0.0-rc3\""
   ]
  },
  {
   "cell_type": "markdown",
   "metadata": {},
   "source": [
    "**легенда**"
   ]
  },
  {
   "cell_type": "code",
   "execution_count": 11,
   "metadata": {},
   "outputs": [],
   "source": [
    "// instanceId_userId — идентификатор пользователя (анонимизированный);\n",
    "// instanceId_objectType — тип объекта;\n",
    "// instanceId_objectId — идентификатор объекта (анонимизированный);\n",
    "// feedback — массив с типами реакций пользователя (наличие в массиве токена Liked говорит о том, что объект получил «класс» от пользователя);\n",
    "// audit_clientType — тип платформы, с которой зашёл пользователь;\n",
    "// audit_timestamp — время, когда строилась лента;\n",
    "// metadata_ownerId — автор показанного объекта (анонимизированный);\n",
    "// metadata_createdAt — дата создания показанного объекта.\n",
    "\n",
    "// audit_* — расширенная информация о контексте построения ленты;\n",
    "// metadata_* — расширенная информация о самом объекте;\n",
    "// userOwnerCounters_* — информация о предыдущих взаимодействиях пользователя и автора контента;\n",
    "// ownerUserCounters_* — информация о предыдущих взаимодействиях автора контента и пользователя;\n",
    "// membership_* — информация о членстве пользователя в группе, где опубликован контент;\n",
    "// user_* — подробная информация о пользователе;\n",
    "// auditweights_* — большое количество runtime-признаков, извлечённых текущей системой"
   ]
  },
  {
   "cell_type": "markdown",
   "metadata": {},
   "source": [
    "**загружаем источник**"
   ]
  },
  {
   "cell_type": "code",
   "execution_count": 16,
   "metadata": {},
   "outputs": [
    {
     "data": {
      "text/plain": [
       "\u001b[36mdf\u001b[39m: \u001b[32mDataFrame\u001b[39m = [instanceId_userId: int, instanceId_objectType: string ... 167 more fields]"
      ]
     },
     "execution_count": 16,
     "metadata": {},
     "output_type": "execute_result"
    }
   ],
   "source": [
    "val df = spark.read.parquet(raw_data) //.cache()"
   ]
  },
  {
   "cell_type": "code",
   "execution_count": null,
   "metadata": {},
   "outputs": [],
   "source": []
  },
  {
   "cell_type": "markdown",
   "metadata": {},
   "source": [
    "<br> **work notes** <br> блок спонтанного анализа дынных - посмотреть и забыть, понять и простить"
   ]
  },
  {
   "cell_type": "code",
   "execution_count": null,
   "metadata": {},
   "outputs": [],
   "source": [
    "// val df_join_batch = spark.read.parquet(\"../data/parquet/df_join_batch/\")\n",
    "// df_join_batch.show(1,100,true)\n",
    "// df_join_batch.count()\n",
    "\n",
    "// // странные даты\n",
    "\n",
    "// val df_ts = df.select(($\"audit_timestamp\"/1000) cast \"timestamp\" cast \"date\"  as \"feedback_ts\", ($\"metadata_createdAt\"/1000)  cast \"timestamp\"  cast \"date\" as \"content_ts\")\n",
    "\n",
    "// df_ts.select(\"feedback_ts\").groupBy(\"feedback_ts\").agg(count($\"feedback_ts\").alias(\"feedback_ts\")).orderBy(\"feedback_ts\").show(100)\n",
    "\n",
    "// df_ts.select(\n",
    "//     org.apache.spark.sql.functions.expr(\"date_format(content_ts, 'yyyyMM') as content_ts\")\n",
    "// )\n",
    "// .groupBy(\"content_ts\")\n",
    "// .agg(\n",
    "//     count($\"content_ts\").alias(\"content_ts\")\n",
    "// )\n",
    "// .orderBy(desc(\"content_ts\"))\n",
    "// .show(1000)\n",
    "\n",
    "// df_ts.unpersist()\n",
    "// df.unpersist()"
   ]
  },
  {
   "cell_type": "code",
   "execution_count": 17,
   "metadata": {},
   "outputs": [
    {
     "data": {
      "text/plain": [
       "\u001b[36mres16\u001b[39m: \u001b[32mLong\u001b[39m = \u001b[32m81272L\u001b[39m"
      ]
     },
     "execution_count": 17,
     "metadata": {},
     "output_type": "execute_result"
    }
   ],
   "source": [
    "df.select(\"metadata_ownerId\").distinct.count()"
   ]
  },
  {
   "cell_type": "code",
   "execution_count": 18,
   "metadata": {},
   "outputs": [
    {
     "name": "stdout",
     "output_type": "stream",
     "text": [
      "metadata_ownerId: 81272\n",
      "user_ID_country: 212\n",
      "user_ID_Location: 288701\n",
      "user_region: 248\n",
      "user_status: 7\n"
     ]
    }
   ],
   "source": [
    "\"metadata_ownerId,user_ID_country,user_ID_Location,user_region,user_status\".split(\",\").foreach(x => println(s\"$x: ${df.select(col(x)).distinct.count().toString}\"))"
   ]
  },
  {
   "cell_type": "code",
   "execution_count": 13,
   "metadata": {},
   "outputs": [
    {
     "name": "stdout",
     "output_type": "stream",
     "text": [
      "+---------+\n",
      "|      col|\n",
      "+---------+\n",
      "|Commented|\n",
      "|   Viewed|\n",
      "| ReShared|\n",
      "|  Clicked|\n",
      "|Complaint|\n",
      "|  Ignored|\n",
      "| Disliked|\n",
      "|    Liked|\n",
      "|  Unliked|\n",
      "+---------+\n",
      "\n"
     ]
    }
   ],
   "source": [
    "df.select(explode($\"feedback\")).distinct.show()"
   ]
  },
  {
   "cell_type": "code",
   "execution_count": 14,
   "metadata": {},
   "outputs": [],
   "source": [
    "spark.catalog.clearCache()\n",
    "spark.close()\n",
    "spark.stop()"
   ]
  },
  {
   "cell_type": "markdown",
   "metadata": {},
   "source": [
    "<br>**ЗАДАЧА. Разобрать датасет на 2-а потока (content и feedback) и 1-ну таблицу (userinfo)**\n",
    "<br>**Чтобы потом обратно собрать это все в датафрейм, но на стриме, и попытаться сделать фит-предикт тривиальным лог-регом**"
   ]
  },
  {
   "cell_type": "code",
   "execution_count": 8,
   "metadata": {},
   "outputs": [
    {
     "name": "stdout",
     "output_type": "stream",
     "text": [
      "root\n",
      " |-- instanceId_userId: integer (nullable = true)\n",
      " |-- instanceId_objectType: string (nullable = true)\n",
      " |-- instanceId_objectId: integer (nullable = true)\n",
      " |-- audit_pos: long (nullable = true)\n",
      " |-- audit_clientType: string (nullable = true)\n",
      " |-- audit_timestamp: long (nullable = true)\n",
      " |-- audit_timePassed: long (nullable = true)\n",
      " |-- audit_experiment: string (nullable = true)\n",
      " |-- audit_resourceType: long (nullable = true)\n",
      " |-- metadata_ownerId: integer (nullable = true)\n",
      " |-- metadata_ownerType: string (nullable = true)\n",
      " |-- metadata_createdAt: long (nullable = true)\n",
      " |-- metadata_authorId: integer (nullable = true)\n",
      " |-- metadata_applicationId: long (nullable = true)\n",
      " |-- metadata_numCompanions: integer (nullable = true)\n",
      " |-- metadata_numPhotos: integer (nullable = true)\n",
      " |-- metadata_numPolls: integer (nullable = true)\n",
      " |-- metadata_numSymbols: integer (nullable = true)\n",
      " |-- metadata_numTokens: integer (nullable = true)\n",
      " |-- metadata_numVideos: integer (nullable = true)\n",
      " |-- metadata_platform: string (nullable = true)\n",
      " |-- metadata_totalVideoLength: integer (nullable = true)\n",
      " |-- metadata_options: array (nullable = true)\n",
      " |    |-- element: string (containsNull = true)\n",
      " |-- relationsMask: long (nullable = true)\n",
      " |-- userOwnerCounters_USER_FEED_REMOVE: double (nullable = true)\n",
      " |-- userOwnerCounters_USER_PROFILE_VIEW: double (nullable = true)\n",
      " |-- userOwnerCounters_VOTE_POLL: double (nullable = true)\n",
      " |-- userOwnerCounters_USER_SEND_MESSAGE: double (nullable = true)\n",
      " |-- userOwnerCounters_USER_DELETE_MESSAGE: double (nullable = true)\n",
      " |-- userOwnerCounters_USER_INTERNAL_LIKE: double (nullable = true)\n",
      " |-- userOwnerCounters_USER_INTERNAL_UNLIKE: double (nullable = true)\n",
      " |-- userOwnerCounters_USER_STATUS_COMMENT_CREATE: double (nullable = true)\n",
      " |-- userOwnerCounters_PHOTO_COMMENT_CREATE: double (nullable = true)\n",
      " |-- userOwnerCounters_MOVIE_COMMENT_CREATE: double (nullable = true)\n",
      " |-- userOwnerCounters_USER_PHOTO_ALBUM_COMMENT_CREATE: double (nullable = true)\n",
      " |-- userOwnerCounters_COMMENT_INTERNAL_LIKE: double (nullable = true)\n",
      " |-- userOwnerCounters_USER_FORUM_MESSAGE_CREATE: double (nullable = true)\n",
      " |-- userOwnerCounters_PHOTO_MARK_CREATE: double (nullable = true)\n",
      " |-- userOwnerCounters_PHOTO_VIEW: double (nullable = true)\n",
      " |-- userOwnerCounters_PHOTO_PIN_BATCH_CREATE: double (nullable = true)\n",
      " |-- userOwnerCounters_PHOTO_PIN_UPDATE: double (nullable = true)\n",
      " |-- userOwnerCounters_USER_PRESENT_SEND: double (nullable = true)\n",
      " |-- userOwnerCounters_UNKNOWN: double (nullable = true)\n",
      " |-- userOwnerCounters_CREATE_TOPIC: double (nullable = true)\n",
      " |-- userOwnerCounters_CREATE_IMAGE: double (nullable = true)\n",
      " |-- userOwnerCounters_CREATE_MOVIE: double (nullable = true)\n",
      " |-- userOwnerCounters_CREATE_COMMENT: double (nullable = true)\n",
      " |-- userOwnerCounters_CREATE_LIKE: double (nullable = true)\n",
      " |-- userOwnerCounters_TEXT: double (nullable = true)\n",
      " |-- userOwnerCounters_IMAGE: double (nullable = true)\n",
      " |-- userOwnerCounters_VIDEO: double (nullable = true)\n",
      " |-- ownerUserCounters_USER_FEED_REMOVE: double (nullable = true)\n",
      " |-- ownerUserCounters_USER_PROFILE_VIEW: double (nullable = true)\n",
      " |-- ownerUserCounters_VOTE_POLL: double (nullable = true)\n",
      " |-- ownerUserCounters_USER_SEND_MESSAGE: double (nullable = true)\n",
      " |-- ownerUserCounters_USER_DELETE_MESSAGE: double (nullable = true)\n",
      " |-- ownerUserCounters_USER_INTERNAL_LIKE: double (nullable = true)\n",
      " |-- ownerUserCounters_USER_INTERNAL_UNLIKE: double (nullable = true)\n",
      " |-- ownerUserCounters_USER_STATUS_COMMENT_CREATE: double (nullable = true)\n",
      " |-- ownerUserCounters_PHOTO_COMMENT_CREATE: double (nullable = true)\n",
      " |-- ownerUserCounters_MOVIE_COMMENT_CREATE: double (nullable = true)\n",
      " |-- ownerUserCounters_USER_PHOTO_ALBUM_COMMENT_CREATE: double (nullable = true)\n",
      " |-- ownerUserCounters_COMMENT_INTERNAL_LIKE: double (nullable = true)\n",
      " |-- ownerUserCounters_USER_FORUM_MESSAGE_CREATE: double (nullable = true)\n",
      " |-- ownerUserCounters_PHOTO_MARK_CREATE: double (nullable = true)\n",
      " |-- ownerUserCounters_PHOTO_VIEW: double (nullable = true)\n",
      " |-- ownerUserCounters_PHOTO_PIN_BATCH_CREATE: double (nullable = true)\n",
      " |-- ownerUserCounters_PHOTO_PIN_UPDATE: double (nullable = true)\n",
      " |-- ownerUserCounters_USER_PRESENT_SEND: double (nullable = true)\n",
      " |-- ownerUserCounters_UNKNOWN: double (nullable = true)\n",
      " |-- ownerUserCounters_CREATE_TOPIC: double (nullable = true)\n",
      " |-- ownerUserCounters_CREATE_IMAGE: double (nullable = true)\n",
      " |-- ownerUserCounters_CREATE_MOVIE: double (nullable = true)\n",
      " |-- ownerUserCounters_CREATE_COMMENT: double (nullable = true)\n",
      " |-- ownerUserCounters_CREATE_LIKE: double (nullable = true)\n",
      " |-- ownerUserCounters_TEXT: double (nullable = true)\n",
      " |-- ownerUserCounters_IMAGE: double (nullable = true)\n",
      " |-- ownerUserCounters_VIDEO: double (nullable = true)\n",
      " |-- membership_status: string (nullable = true)\n",
      " |-- membership_statusUpdateDate: long (nullable = true)\n",
      " |-- membership_joinDate: long (nullable = true)\n",
      " |-- membership_joinRequestDate: long (nullable = true)\n",
      " |-- owner_create_date: long (nullable = true)\n",
      " |-- owner_birth_date: integer (nullable = true)\n",
      " |-- owner_gender: integer (nullable = true)\n",
      " |-- owner_status: integer (nullable = true)\n",
      " |-- owner_ID_country: long (nullable = true)\n",
      " |-- owner_ID_Location: integer (nullable = true)\n",
      " |-- owner_is_active: integer (nullable = true)\n",
      " |-- owner_is_deleted: integer (nullable = true)\n",
      " |-- owner_is_abused: integer (nullable = true)\n",
      " |-- owner_is_activated: integer (nullable = true)\n",
      " |-- owner_change_datime: long (nullable = true)\n",
      " |-- owner_is_semiactivated: integer (nullable = true)\n",
      " |-- owner_region: integer (nullable = true)\n",
      " |-- user_create_date: long (nullable = true)\n",
      " |-- user_birth_date: integer (nullable = true)\n",
      " |-- user_gender: integer (nullable = true)\n",
      " |-- user_status: integer (nullable = true)\n",
      " |-- user_ID_country: long (nullable = true)\n",
      " |-- user_ID_Location: integer (nullable = true)\n",
      " |-- user_is_active: integer (nullable = true)\n",
      " |-- user_is_deleted: integer (nullable = true)\n",
      " |-- user_is_abused: integer (nullable = true)\n",
      " |-- user_is_activated: integer (nullable = true)\n",
      " |-- user_change_datime: long (nullable = true)\n",
      " |-- user_is_semiactivated: integer (nullable = true)\n",
      " |-- user_region: integer (nullable = true)\n",
      " |-- feedback: array (nullable = true)\n",
      " |    |-- element: string (containsNull = true)\n",
      " |-- objectId: integer (nullable = true)\n",
      " |-- auditweights_ageMs: double (nullable = true)\n",
      " |-- auditweights_closed: double (nullable = true)\n",
      " |-- auditweights_ctr_gender: double (nullable = true)\n",
      " |-- auditweights_ctr_high: double (nullable = true)\n",
      " |-- auditweights_ctr_negative: double (nullable = true)\n",
      " |-- auditweights_dailyRecency: double (nullable = true)\n",
      " |-- auditweights_feedOwner_RECOMMENDED_GROUP: double (nullable = true)\n",
      " |-- auditweights_feedStats: double (nullable = true)\n",
      " |-- auditweights_friendCommentFeeds: double (nullable = true)\n",
      " |-- auditweights_friendCommenters: double (nullable = true)\n",
      " |-- auditweights_friendLikes: double (nullable = true)\n",
      " |-- auditweights_friendLikes_actors: double (nullable = true)\n",
      " |-- auditweights_hasDetectedText: double (nullable = true)\n",
      " |-- auditweights_hasText: double (nullable = true)\n",
      " |-- auditweights_isPymk: double (nullable = true)\n",
      " |-- auditweights_isRandom: double (nullable = true)\n",
      " |-- auditweights_likersFeedStats_hyper: double (nullable = true)\n",
      " |-- auditweights_likersSvd_prelaunch_hyper: double (nullable = true)\n",
      " |-- auditweights_matrix: double (nullable = true)\n",
      " |-- auditweights_notOriginalPhoto: double (nullable = true)\n",
      " |-- auditweights_numDislikes: double (nullable = true)\n",
      " |-- auditweights_numLikes: double (nullable = true)\n",
      " |-- auditweights_numShows: double (nullable = true)\n",
      " |-- auditweights_onlineVideo: double (nullable = true)\n",
      " |-- auditweights_partAge: double (nullable = true)\n",
      " |-- auditweights_partCtr: double (nullable = true)\n",
      " |-- auditweights_partSvd: double (nullable = true)\n",
      " |-- auditweights_processedVideo: double (nullable = true)\n",
      " |-- auditweights_relationMasks: double (nullable = true)\n",
      " |-- auditweights_source_LIVE_TOP: double (nullable = true)\n",
      " |-- auditweights_source_MOVIE_TOP: double (nullable = true)\n",
      " |-- auditweights_svd_prelaunch: double (nullable = true)\n",
      " |-- auditweights_svd_spark: double (nullable = true)\n",
      " |-- auditweights_userAge: double (nullable = true)\n",
      " |-- auditweights_userOwner_CREATE_COMMENT: double (nullable = true)\n",
      " |-- auditweights_userOwner_CREATE_IMAGE: double (nullable = true)\n",
      " |-- auditweights_userOwner_CREATE_LIKE: double (nullable = true)\n",
      " |-- auditweights_userOwner_IMAGE: double (nullable = true)\n",
      " |-- auditweights_userOwner_MOVIE_COMMENT_CREATE: double (nullable = true)\n",
      " |-- auditweights_userOwner_PHOTO_COMMENT_CREATE: double (nullable = true)\n",
      " |-- auditweights_userOwner_PHOTO_MARK_CREATE: double (nullable = true)\n",
      " |-- auditweights_userOwner_PHOTO_VIEW: double (nullable = true)\n",
      " |-- auditweights_userOwner_TEXT: double (nullable = true)\n",
      " |-- auditweights_userOwner_UNKNOWN: double (nullable = true)\n",
      " |-- auditweights_userOwner_USER_DELETE_MESSAGE: double (nullable = true)\n",
      " |-- auditweights_userOwner_USER_FEED_REMOVE: double (nullable = true)\n",
      " |-- auditweights_userOwner_USER_FORUM_MESSAGE_CREATE: double (nullable = true)\n",
      " |-- auditweights_userOwner_USER_INTERNAL_LIKE: double (nullable = true)\n",
      " |-- auditweights_userOwner_USER_INTERNAL_UNLIKE: double (nullable = true)\n",
      " |-- auditweights_userOwner_USER_PRESENT_SEND: double (nullable = true)\n",
      " |-- auditweights_userOwner_USER_PROFILE_VIEW: double (nullable = true)\n",
      " |-- auditweights_userOwner_USER_SEND_MESSAGE: double (nullable = true)\n",
      " |-- auditweights_userOwner_USER_STATUS_COMMENT_CREATE: double (nullable = true)\n",
      " |-- auditweights_userOwner_VIDEO: double (nullable = true)\n",
      " |-- auditweights_userOwner_VOTE_POLL: double (nullable = true)\n",
      " |-- auditweights_x_ActorsRelations: long (nullable = true)\n",
      " |-- auditweights_likersSvd_spark_hyper: double (nullable = true)\n",
      " |-- auditweights_source_PROMO: double (nullable = true)\n",
      " |-- date: date (nullable = true)\n",
      "\n"
     ]
    }
   ],
   "source": [
    "df.printSchema"
   ]
  },
  {
   "cell_type": "code",
   "execution_count": null,
   "metadata": {},
   "outputs": [],
   "source": []
  },
  {
   "cell_type": "markdown",
   "metadata": {},
   "source": [
    "<br>**1) Отберем часть данных для топика CONTENT (.json, topic: content)**"
   ]
  },
  {
   "cell_type": "code",
   "execution_count": 22,
   "metadata": {},
   "outputs": [
    {
     "name": "stdout",
     "output_type": "stream",
     "text": [
      "Statistics:\n",
      "\n",
      "+--------+\n",
      "|    nrow|\n",
      "+--------+\n",
      "|18286575|\n",
      "+--------+\n",
      "\n",
      "+-------+\n",
      "|   nobj|\n",
      "+-------+\n",
      "|2936576|\n",
      "+-------+\n",
      "\n",
      "Before:\n",
      "\n",
      "-RECORD 0--------------------------------------------------------------\n",
      " metadata_createdAt        | 1519538534000                             \n",
      " instanceId_objectId       | 27670501                                  \n",
      " instanceId_objectType     | Post                                      \n",
      " metadata_ownerId          | 11873                                     \n",
      " metadata_ownerType        | GROUP_OPEN_OFFICIAL                       \n",
      " metadata_authorId         | 792913                                    \n",
      " metadata_applicationId    | 0                                         \n",
      " metadata_numCompanions    | 0                                         \n",
      " metadata_numPhotos        | 1                                         \n",
      " metadata_numPolls         | 1                                         \n",
      " metadata_numSymbols       | 0                                         \n",
      " metadata_numTokens        | 0                                         \n",
      " metadata_numVideos        | 0                                         \n",
      " metadata_platform         | OTHER                                     \n",
      " metadata_totalVideoLength | 0                                         \n",
      " metadata_options          | [HAS_PHOTOS, HAS_POLLS, IS_PART_OF_TOPIC] \n",
      "only showing top 1 row\n",
      "\n",
      "root\n",
      " |-- metadata_createdAt: long (nullable = true)\n",
      " |-- instanceId_objectId: integer (nullable = true)\n",
      " |-- instanceId_objectType: string (nullable = true)\n",
      " |-- metadata_ownerId: integer (nullable = true)\n",
      " |-- metadata_ownerType: string (nullable = true)\n",
      " |-- metadata_authorId: integer (nullable = true)\n",
      " |-- metadata_applicationId: long (nullable = true)\n",
      " |-- metadata_numCompanions: integer (nullable = true)\n",
      " |-- metadata_numPhotos: integer (nullable = true)\n",
      " |-- metadata_numPolls: integer (nullable = true)\n",
      " |-- metadata_numSymbols: integer (nullable = true)\n",
      " |-- metadata_numTokens: integer (nullable = true)\n",
      " |-- metadata_numVideos: integer (nullable = true)\n",
      " |-- metadata_platform: string (nullable = true)\n",
      " |-- metadata_totalVideoLength: integer (nullable = true)\n",
      " |-- metadata_options: array (nullable = true)\n",
      " |    |-- element: string (containsNull = true)\n",
      "\n",
      "After:\n",
      "\n",
      "-RECORD 0--------------------------------------------------------------------------------------------------------------\n",
      " timestamp | 1514765113000                                                                                             \n",
      " key       | 16876204                                                                                                  \n",
      " value     | [Post, 31419, GROUP_OPEN_OFFICIAL, 680017, 0, 0, 1, 0, 0, 0, 0, OTHER, 0, [HAS_PHOTOS, IS_PART_OF_TOPIC]] \n",
      "only showing top 1 row\n",
      "\n",
      "root\n",
      " |-- timestamp: long (nullable = true)\n",
      " |-- key: string (nullable = true)\n",
      " |-- value: struct (nullable = false)\n",
      " |    |-- objectType: string (nullable = true)\n",
      " |    |-- ownerId: integer (nullable = true)\n",
      " |    |-- ownerType: string (nullable = true)\n",
      " |    |-- authorId: integer (nullable = true)\n",
      " |    |-- applicationId: long (nullable = true)\n",
      " |    |-- numCompanions: integer (nullable = true)\n",
      " |    |-- numPhotos: integer (nullable = true)\n",
      " |    |-- numPolls: integer (nullable = true)\n",
      " |    |-- numSymbols: integer (nullable = true)\n",
      " |    |-- numTokens: integer (nullable = true)\n",
      " |    |-- numVideos: integer (nullable = true)\n",
      " |    |-- platform: string (nullable = true)\n",
      " |    |-- totalVideoLength: integer (nullable = true)\n",
      " |    |-- options: array (nullable = true)\n",
      " |    |    |-- element: string (containsNull = true)\n",
      "\n"
     ]
    },
    {
     "data": {
      "text/plain": [
       "\u001b[36mts\u001b[39m: \u001b[32mString\u001b[39m = \u001b[32m\"metadata_createdAt\"\u001b[39m\n",
       "\u001b[36mkey\u001b[39m: \u001b[32mString\u001b[39m = \u001b[32m\"instanceId_objectId\"\u001b[39m\n",
       "\u001b[36mvalue\u001b[39m: \u001b[32mArray\u001b[39m[\u001b[32mString\u001b[39m] = \u001b[33mArray\u001b[39m(\n",
       "  \u001b[32m\"instanceId_objectType\"\u001b[39m,\n",
       "  \u001b[32m\"metadata_ownerId\"\u001b[39m,\n",
       "  \u001b[32m\"metadata_ownerType\"\u001b[39m,\n",
       "  \u001b[32m\"metadata_authorId\"\u001b[39m,\n",
       "  \u001b[32m\"metadata_applicationId\"\u001b[39m,\n",
       "  \u001b[32m\"metadata_numCompanions\"\u001b[39m,\n",
       "  \u001b[32m\"metadata_numPhotos\"\u001b[39m,\n",
       "  \u001b[32m\"metadata_numPolls\"\u001b[39m,\n",
       "  \u001b[32m\"metadata_numSymbols\"\u001b[39m,\n",
       "  \u001b[32m\"metadata_numTokens\"\u001b[39m,\n",
       "  \u001b[32m\"metadata_numVideos\"\u001b[39m,\n",
       "  \u001b[32m\"metadata_platform\"\u001b[39m,\n",
       "  \u001b[32m\"metadata_totalVideoLength\"\u001b[39m,\n",
       "  \u001b[32m\"metadata_options\"\u001b[39m\n",
       ")\n",
       "\u001b[36mrenameList\u001b[39m: \u001b[32mArray\u001b[39m[\u001b[32mColumn\u001b[39m] = \u001b[33mArray\u001b[39m(\n",
       "  instanceId_objectType AS `objectType`,\n",
       "  metadata_ownerId AS `ownerId`,\n",
       "  metadata_ownerType AS `ownerType`,\n",
       "  metadata_authorId AS `authorId`,\n",
       "  metadata_applicationId AS `applicationId`,\n",
       "  metadata_numCompanions AS `numCompanions`,\n",
       "  metadata_numPhotos AS `numPhotos`,\n",
       "  metadata_numPolls AS `numPolls`,\n",
       "  metadata_numSymbols AS `numSymbols`,\n",
       "  metadata_numTokens AS `numTokens`,\n",
       "  metadata_numVideos AS `numVideos`,\n",
       "  metadata_platform AS `platform`,\n",
       "  metadata_totalVideoLength AS `totalVideoLength`,\n",
       "  metadata_options AS `options`\n",
       ")\n",
       "\u001b[36mdf_objects\u001b[39m: \u001b[32mDataset\u001b[39m[\u001b[32mRow\u001b[39m] = [metadata_createdAt: bigint, instanceId_objectId: int ... 14 more fields]\n",
       "\u001b[36mdf_content\u001b[39m: \u001b[32mDataset\u001b[39m[\u001b[32mRow\u001b[39m] = [timestamp: bigint, key: string ... 1 more field]\n",
       "\u001b[36mstg_content_test\u001b[39m: \u001b[32mDataset\u001b[39m[\u001b[32mRow\u001b[39m] = [timestamp: bigint, key: string ... 1 more field]"
      ]
     },
     "execution_count": 22,
     "metadata": {},
     "output_type": "execute_result"
    }
   ],
   "source": [
    "println(\"Statistics:\\n\")\n",
    "// number of rows\n",
    "df.select(\"instanceId_objectId\").groupBy().agg(count('instanceId_objectId).alias(\"nrow\")).show()\n",
    "// number of unique objectId\n",
    "df.select(\"instanceId_objectId\").groupBy(\"instanceId_objectId\").agg(count('instanceId_objectId).alias(\"nobj\")).groupBy().agg(count('instanceId_objectId).alias(\"nobj\")).show()\n",
    "\n",
    "val ts    = \"metadata_createdAt\"\n",
    "val key   = \"instanceId_objectId\"\n",
    "val value = Array(\n",
    "            \"instanceId_objectType\",\n",
    "            \"metadata_ownerId\",\n",
    "            \"metadata_ownerType\",\n",
    "            \"metadata_authorId\",\n",
    "            \"metadata_applicationId\",\n",
    "            \"metadata_numCompanions\",\n",
    "            \"metadata_numPhotos\",\n",
    "            \"metadata_numPolls\",\n",
    "            \"metadata_numSymbols\",\n",
    "            \"metadata_numTokens\",\n",
    "            \"metadata_numVideos\",\n",
    "            \"metadata_platform\",\n",
    "            \"metadata_totalVideoLength\",\n",
    "            \"metadata_options\")\n",
    "\n",
    "val renameList = value.zip(value.map(_.split(\"_\")(1))).map(f=>{col(f._1).as(f._2)})\n",
    "\n",
    "val df_objects = df\n",
    "    .filter(\"\"\"1=1\n",
    "    and metadata_createdAt > 0 \n",
    "    and metadata_createdAt <= audit_timestamp \n",
    "    and cast(date_format(cast((metadata_createdAt/1000) as timestamp), 'yyyyMM') as int) >= 201801\n",
    "    \"\"\")\n",
    "    .select((Array(col(ts), col(key))++value.map(col(_))): _*)\n",
    "    .distinct\n",
    "\n",
    "println(\"Before:\\n\")\n",
    "df_objects.show(1,200,true)\n",
    "df_objects.printSchema\n",
    "\n",
    "val df_content = df_objects\n",
    "    .select(col(ts).as(\"timestamp\"), col(key).cast(types.StringType).as(\"key\"), struct(renameList: _*) as \"value\")\n",
    "    .filter(\"length(coalesce(key,-1)) > 0\")\n",
    "    .orderBy(col(\"timestamp\").asc)\n",
    "\n",
    "println(\"After:\\n\")\n",
    "df_content.show(1,200,true)\n",
    "df_content.printSchema\n",
    "\n",
    "// stg 1-file json\n",
    "\n",
    "val stg_content_test = df_content.limit(1000)\n",
    "stg_content_test.coalesce(1).write.json(\"../data/processed/stg_content_test\")\n",
    "df_content.limit(10).coalesce(1).write.json(\"../data/processed/stg_content_example\")\n",
    "df_content.coalesce(1).write.json(\"../data/processed/stg_content\")\n"
   ]
  },
  {
   "cell_type": "code",
   "execution_count": 6,
   "metadata": {},
   "outputs": [
    {
     "name": "stdout",
     "output_type": "stream",
     "text": [
      "+------+---------+\n",
      "|    ts|count(ts)|\n",
      "+------+---------+\n",
      "|201801|     1000|\n",
      "+------+---------+\n",
      "\n"
     ]
    },
    {
     "data": {
      "text/plain": [
       "\u001b[36mcontent_test\u001b[39m: \u001b[32mDataFrame\u001b[39m = [key: string, timestamp: bigint ... 1 more field]"
      ]
     },
     "execution_count": 6,
     "metadata": {},
     "output_type": "execute_result"
    }
   ],
   "source": [
    "val content_test = spark.read.json(\"../data/processed/stg_content_test/*.json\")\n",
    "content_test.select(date_format($\"timestamp\"/1000 cast \"timestamp\", \"yyyyMM\") as \"ts\").groupBy(\"ts\").agg(count($\"ts\")).show()"
   ]
  },
  {
   "attachments": {
    "c6351255-bf29-454a-81cf-02eca6d51dcc.png": {
     "image/png": "[encoded data removed]"
    }
   },
   "cell_type": "markdown",
   "metadata": {},
   "source": [
    "![image.png](attachment:c6351255-bf29-454a-81cf-02eca6d51dcc.png)"
   ]
  },
  {
   "cell_type": "markdown",
   "metadata": {},
   "source": [
    "<br>**2) Отберем часть данных для топика FEEDBACK (.json)**"
   ]
  },
  {
   "cell_type": "code",
   "execution_count": 30,
   "metadata": {},
   "outputs": [
    {
     "name": "stdout",
     "output_type": "stream",
     "text": [
      "-RECORD 0---------------------\n",
      " timestamp | 1519577908927    \n",
      " key       | 1000017_27012608 \n",
      " value     | [A, [Ignored]]   \n",
      "only showing top 1 row\n",
      "\n",
      "root\n",
      " |-- timestamp: long (nullable = true)\n",
      " |-- key: string (nullable = false)\n",
      " |-- value: struct (nullable = false)\n",
      " |    |-- membership_status: string (nullable = false)\n",
      " |    |-- feedback: array (nullable = true)\n",
      " |    |    |-- element: string (containsNull = true)\n",
      "\n"
     ]
    },
    {
     "data": {
      "text/plain": [
       "\u001b[36mselected_cols\u001b[39m: \u001b[32mArray\u001b[39m[\u001b[32mColumn\u001b[39m] = \u001b[33mArray\u001b[39m(\n",
       "  audit_timestamp AS `timestamp`,\n",
       "  concat_ws(_, instanceId_userId, instanceId_objectId) AS `key`,\n",
       "  named_struct(NamePlaceholder(), coalesce(membership_status, U) AS `membership_status`, NamePlaceholder(), feedback) AS `value`\n",
       ")\n",
       "\u001b[36mnot_dubl\u001b[39m: \u001b[32mDataFrame\u001b[39m = [key: string]\n",
       "\u001b[36mUserObjFeed\u001b[39m: \u001b[32mDataFrame\u001b[39m = [timestamp: bigint, key: string ... 1 more field]"
      ]
     },
     "execution_count": 30,
     "metadata": {},
     "output_type": "execute_result"
    }
   ],
   "source": [
    "val selected_cols = Array(\n",
    "    $\"audit_timestamp\" as \"timestamp\" , \n",
    "    concat_ws(\"_\", $\"instanceId_userId\", $\"instanceId_objectId\") as \"key\", \n",
    "    struct(coalesce($\"membership_status\", lit(\"U\")) as \"membership_status\", $\"feedback\") as \"value\"\n",
    ")\n",
    "\n",
    "val not_dubl = (\n",
    "    df\n",
    "    .filter(\"\"\"1=1\n",
    "    and audit_timestamp > 0 \n",
    "    and instanceId_userId is not null and length(instanceId_userId) > 0\n",
    "    and instanceId_objectId is not null and length(instanceId_objectId) > 0\n",
    "    and metadata_createdAt > 0 \n",
    "    and metadata_createdAt <= audit_timestamp \n",
    "    and cast(date_format(cast((metadata_createdAt/1000) as timestamp), 'yyyyMM') as int) >= 201801\n",
    "    \"\"\") \n",
    "    .select(concat_ws(\"_\", $\"instanceId_userId\", $\"instanceId_objectId\") as \"key\")\n",
    "    .groupBy(\"key\")\n",
    "    .agg(count($\"key\").alias(\"cnt\"))\n",
    "    .filter(\"cnt = 1\")\n",
    "    .select(\"key\")\n",
    ")\n",
    "\n",
    "val UserObjFeed = df.select(selected_cols: _*).distinct().join(not_dubl, Seq(\"key\"), \"inner\").select('timestamp, 'key, 'value)\n",
    "\n",
    "UserObjFeed.show(1,200, true)\n",
    "UserObjFeed.printSchema\n",
    "\n",
    "\n",
    "UserObjFeed.orderBy($\"timestamp\").limit(10).coalesce(1).write.json(\"../data/processed/stg_feedback_example\")\n",
    "UserObjFeed.orderBy($\"timestamp\").coalesce(1).write.json(\"../data/processed/stg_feedback\")\n"
   ]
  },
  {
   "cell_type": "code",
   "execution_count": 48,
   "metadata": {},
   "outputs": [],
   "source": [
    "(\n",
    "    UserObjFeed.withColumn(\"key1\", split($\"key\", \"_\").getItem(1))\n",
    "    .join(\n",
    "        stg_content_test.select(\"key\").withColumnRenamed(\"key\", \"key1\"), \n",
    "        Seq(\"key1\"), \n",
    "        \"inner\"\n",
    "    )\n",
    "    .select($\"timestamp\", $\"key\", $\"value\")\n",
    "    .coalesce(1)\n",
    "    .write\n",
    "    .json(\"../data/processed/stg_feedback_test\")\n",
    ")"
   ]
  },
  {
   "cell_type": "code",
   "execution_count": 5,
   "metadata": {},
   "outputs": [
    {
     "name": "stdout",
     "output_type": "stream",
     "text": [
      "+------+---------+\n",
      "|    ts|count(ts)|\n",
      "+------+---------+\n",
      "|201801|        2|\n",
      "|201802|     1715|\n",
      "|201803|      671|\n",
      "+------+---------+\n",
      "\n"
     ]
    },
    {
     "data": {
      "text/plain": [
       "\u001b[36mfeedback_test\u001b[39m: \u001b[32mDataFrame\u001b[39m = [key: string, timestamp: bigint ... 1 more field]"
      ]
     },
     "execution_count": 5,
     "metadata": {},
     "output_type": "execute_result"
    }
   ],
   "source": [
    "val feedback_test = spark.read.json(\"../data/processed/stg_feedback_test/*.json\")\n",
    "feedback_test.select(date_format($\"timestamp\"/1000 cast \"timestamp\", \"yyyyMM\") as \"ts\").groupBy(\"ts\").agg(count($\"ts\")).show()"
   ]
  },
  {
   "attachments": {
    "ed8d67ba-c565-44ef-93f6-3a91062285e5.png": {
     "image/png": "[encoded data removed]"
    }
   },
   "cell_type": "markdown",
   "metadata": {},
   "source": [
    "![image.png](attachment:ed8d67ba-c565-44ef-93f6-3a91062285e5.png)"
   ]
  },
  {
   "cell_type": "code",
   "execution_count": 6,
   "metadata": {},
   "outputs": [],
   "source": [
    "// df.select(explode($\"feedback\").alias(\"feedback\")).groupBy(\"feedback\").count().show()"
   ]
  },
  {
   "cell_type": "code",
   "execution_count": 6,
   "metadata": {},
   "outputs": [],
   "source": [
    "// df.select(\"membership_status\").distinct.show()"
   ]
  },
  {
   "cell_type": "code",
   "execution_count": 6,
   "metadata": {},
   "outputs": [],
   "source": [
    "// UserObjFeed.select(\"value.membership_status\").distinct.show()"
   ]
  },
  {
   "cell_type": "markdown",
   "metadata": {},
   "source": [
    "<br>**3) Отберем часть данных с информацией о пользователях USERINFO - датафрейм (parquet)**"
   ]
  },
  {
   "cell_type": "code",
   "execution_count": 27,
   "metadata": {},
   "outputs": [
    {
     "name": "stdout",
     "output_type": "stream",
     "text": [
      "+------+-------------+----------+------+------+-----------+-----------+---------+----------+---------+------------+-------------+----------------+------+\n",
      "|userId|  create_date|birth_date|gender|status| ID_country|ID_Location|is_active|is_deleted|is_abused|is_activated|change_datime|is_semiactivated|region|\n",
      "+------+-------------+----------+------+------+-----------+-----------+---------+----------+---------+------------+-------------+----------------+------+\n",
      "|     3|1182840899490|      2216|     2|   192|10414533690|     425758|        1|         0|        0|           1|1448991398527|               0|     2|\n",
      "|     6|1182841583650|     -4766|     2|   128|10414533690|    3683727|        1|         0|        0|           1|1500102484507|               0|    50|\n",
      "|     9|1182841766247|      4293|     2|   192|10414533690|    3385314|        1|         0|        0|           1|1446451973670|               0|     1|\n",
      "|    12|1182842289720|     -1000|     2|   192|10414533690|    3031192|        1|         0|        0|           1|1182842289720|            null|     1|\n",
      "|    15|1182842783143|      2581|     2|   192|10414533690|    3385314|        1|         0|        0|           1|1498555751480|               0|    11|\n",
      "+------+-------------+----------+------+------+-----------+-----------+---------+----------+---------+------------+-------------+----------------+------+\n",
      "only showing top 5 rows\n",
      "\n",
      "+-------+\n",
      "|   nrow|\n",
      "+-------+\n",
      "|4362156|\n",
      "+-------+\n",
      "\n"
     ]
    },
    {
     "data": {
      "text/plain": [
       "\u001b[36muser_id\u001b[39m: \u001b[32mArray\u001b[39m[\u001b[32mColumn\u001b[39m] = \u001b[33mArray\u001b[39m(instanceId_userId AS `userId`)\n",
       "\u001b[36muser_columns\u001b[39m: \u001b[32mArray\u001b[39m[\u001b[32mColumn\u001b[39m] = \u001b[33mArray\u001b[39m(\n",
       "  user_create_date AS `create_date`,\n",
       "  user_birth_date AS `birth_date`,\n",
       "  user_gender AS `gender`,\n",
       "  user_status AS `status`,\n",
       "  user_ID_country AS `ID_country`,\n",
       "  user_ID_Location AS `ID_Location`,\n",
       "  user_is_active AS `is_active`,\n",
       "  user_is_deleted AS `is_deleted`,\n",
       "  user_is_abused AS `is_abused`,\n",
       "  user_is_activated AS `is_activated`,\n",
       "  user_change_datime AS `change_datime`,\n",
       "  user_is_semiactivated AS `is_semiactivated`,\n",
       "  user_region AS `region`\n",
       ")\n",
       "\u001b[36muser_data\u001b[39m: \u001b[32mDataset\u001b[39m[\u001b[32mRow\u001b[39m] = [userId: int, create_date: bigint ... 12 more fields]"
      ]
     },
     "execution_count": 27,
     "metadata": {},
     "output_type": "execute_result"
    }
   ],
   "source": [
    "val user_id = Array($\"instanceId_userId\".as(\"userId\"))\n",
    "val user_columns = df.columns.filter(_.contains (\"user_\")).map(x=>col(x).as(x.replace(\"user_\", \"\")))\n",
    "\n",
    "val user_data = (\n",
    "    df\n",
    "    .select(user_id ++ user_columns: _*)\n",
    "    .distinct\n",
    "    .withColumn(\"change_datime\", coalesce($\"change_datime\", $\"create_date\"))\n",
    "    .orderBy(($\"userId\").asc, ($\"change_datime\").asc)\n",
    ")\n",
    "    \n",
    "user_data.show(5)\n",
    "user_data.groupBy().agg(count('userId).alias(\"nrow\")).show()\n",
    "user_data.limit(10).coalesce(1).write.option(\"header\", true).csv(\"../data/processed/stg_userinfo_example\")\n",
    "user_data.coalesce(1).write.parquet(\"../data/processed/stg_userinfo\")\n"
   ]
  },
  {
   "cell_type": "code",
   "execution_count": 33,
   "metadata": {},
   "outputs": [
    {
     "name": "stdout",
     "output_type": "stream",
     "text": [
      "root\n",
      " |-- userId: integer (nullable = true)\n",
      " |-- create_date: long (nullable = true)\n",
      " |-- birth_date: integer (nullable = true)\n",
      " |-- gender: integer (nullable = true)\n",
      " |-- status: integer (nullable = true)\n",
      " |-- ID_country: long (nullable = true)\n",
      " |-- ID_Location: integer (nullable = true)\n",
      " |-- is_active: integer (nullable = true)\n",
      " |-- is_deleted: integer (nullable = true)\n",
      " |-- is_abused: integer (nullable = true)\n",
      " |-- is_activated: integer (nullable = true)\n",
      " |-- change_datime: long (nullable = true)\n",
      " |-- is_semiactivated: integer (nullable = true)\n",
      " |-- region: integer (nullable = true)\n",
      "\n"
     ]
    },
    {
     "data": {
      "text/plain": [
       "\u001b[36muserinfo\u001b[39m: \u001b[32mDataFrame\u001b[39m = [userId: int, create_date: bigint ... 12 more fields]"
      ]
     },
     "execution_count": 33,
     "metadata": {},
     "output_type": "execute_result"
    }
   ],
   "source": [
    "val userinfo = spark.read.parquet(\"../data/processed/stg_userinfo/\")\n",
    "userinfo.printSchema"
   ]
  },
  {
   "cell_type": "code",
   "execution_count": null,
   "metadata": {},
   "outputs": [],
   "source": []
  },
  {
   "cell_type": "markdown",
   "metadata": {},
   "source": [
    "**Тестируем процессинг на статичных файлах**"
   ]
  },
  {
   "cell_type": "code",
   "execution_count": 92,
   "metadata": {},
   "outputs": [
    {
     "data": {
      "text/plain": [
       "\u001b[36mfeedback_test\u001b[39m: \u001b[32mDataFrame\u001b[39m = [key: string, timestamp: bigint ... 1 more field]"
      ]
     },
     "execution_count": 92,
     "metadata": {},
     "output_type": "execute_result"
    }
   ],
   "source": [
    "val feedback_test = spark.read.json(\"../data/processed/stg_feedback_test/*.json\")"
   ]
  },
  {
   "cell_type": "code",
   "execution_count": 53,
   "metadata": {},
   "outputs": [
    {
     "name": "stdout",
     "output_type": "stream",
     "text": [
      "+-----------------+-----+\n",
      "|              key|count|\n",
      "+-----------------+-----+\n",
      "| 6336744_18571840|    2|\n",
      "| 5538045_18571840|    2|\n",
      "| 7808703_18571840|    2|\n",
      "|13776732_18571840|    2|\n",
      "| 1042290_18571840|    2|\n",
      "|12595017_18571840|    2|\n",
      "|15544770_18571840|    2|\n",
      "|11055765_18571840|    2|\n",
      "|10330464_18571840|    2|\n",
      "| 4956369_18571840|    2|\n",
      "|13399518_18571840|    2|\n",
      "|  853677_18571840|    2|\n",
      "| 7576560_18571840|    2|\n",
      "|  182058_18571840|    2|\n",
      "| 4734804_18571840|    2|\n",
      "| 8916486_18571840|    2|\n",
      "| 8992035_18571840|    2|\n",
      "| 2902149_18571840|    2|\n",
      "| 4579161_18571840|    2|\n",
      "|  104571_18571840|    2|\n",
      "+-----------------+-----+\n",
      "\n"
     ]
    }
   ],
   "source": [
    "feedback_test.groupBy(\"key\").count().filter(\"count > 1\") show()"
   ]
  },
  {
   "cell_type": "code",
   "execution_count": 110,
   "metadata": {},
   "outputs": [
    {
     "name": "stdout",
     "output_type": "stream",
     "text": [
      "+--------------+--------------+--------------------+--------------------+\n",
      "|feedback_useID|feedback_objID|                 ts1|            feedback|\n",
      "+--------------+--------------+--------------------+--------------------+\n",
      "|      10486914|        304539|2018-02-18 11:57:...|           [Clicked]|\n",
      "|      11248422|      14838919|2018-02-24 15:09:...|           [Ignored]|\n",
      "|      11972100|      22599605|2018-02-06 17:26:...|           [Ignored]|\n",
      "|      14952438|      12465334|2018-03-03 13:17:...|             [Liked]|\n",
      "|      15279759|        304539|2018-03-13 02:46:...|           [Ignored]|\n",
      "|       2252610|        304539|2018-02-17 18:29:...|           [Ignored]|\n",
      "|       2780709|      11322902|2018-02-21 15:59:...|           [Ignored]|\n",
      "|        305451|        290443|2018-02-06 22:11:...|           [Ignored]|\n",
      "|       3137910|      16196712|2018-02-03 07:56:...|[Clicked, Liked, ...|\n",
      "|       3169221|      12681913|2018-02-15 00:39:...|           [Ignored]|\n",
      "+--------------+--------------+--------------------+--------------------+\n",
      "only showing top 10 rows\n",
      "\n"
     ]
    },
    {
     "data": {
      "text/plain": [
       "\u001b[36mfeedback_test1\u001b[39m: \u001b[32mDataFrame\u001b[39m = [feedback_useID: string, feedback_objID: string ... 2 more fields]\n",
       "\u001b[36mres109_2\u001b[39m: \u001b[32mLong\u001b[39m = \u001b[32m2388L\u001b[39m"
      ]
     },
     "execution_count": 110,
     "metadata": {},
     "output_type": "execute_result"
    }
   ],
   "source": [
    "\n",
    "val feedback_test1 = feedback_test\n",
    ".select(\n",
    "    split($\"key\", \"_\").getItem(0) as \"feedback_useID\", \n",
    "    split($\"key\", \"_\").getItem(1) as \"feedback_objID\", \n",
    "    $\"timestamp\"/1000 cast \"timestamp\" as \"ts1\", \n",
    "    $\"value\"(\"feedback\") as \"feedback\"\n",
    ")\n",
    "\n",
    "feedback_test1.show(10)\n",
    "feedback_test1.count()"
   ]
  },
  {
   "cell_type": "code",
   "execution_count": 111,
   "metadata": {},
   "outputs": [
    {
     "name": "stdout",
     "output_type": "stream",
     "text": [
      "+-------------+----------+-------------+--------+-------------+---------+--------+----------+---------+---------+----------+----------+-------+----------+--------+----------------+\n",
      "|content_objID|       ts2|applicationId|authorId|numCompanions|numPhotos|numPolls|numSymbols|numTokens|numVideos|objectType|   options|ownerId| ownerType|platform|totalVideoLength|\n",
      "+-------------+----------+-------------+--------+-------------+---------+--------+----------+---------+---------+----------+----------+-------+----------+--------+----------------+\n",
      "|     16876204|2018-01...|            0|  680017|            0|        1|       0|         0|        0|        0|      Post|[HAS_PH...|  31419|GROUP_O...|   OTHER|               0|\n",
      "|       289803|2018-01...|            0|  905556|            0|        0|       0|        32|        2|        0|     Video|[HAS_TE...|  14174|GROUP_OPEN| ANDROID|           60024|\n",
      "|     18216307|2018-01...|            0|  678857|            0|        1|       0|        43|        5|        0|      Post|[HAS_TE...|   7221|GROUP_OPEN|     WEB|               0|\n",
      "|     14853939|2018-01...|            0|  480378|            0|        1|       1|         0|        0|        0|      Post|[HAS_PH...|  75713|GROUP_O...|   OTHER|               0|\n",
      "|     24063312|2018-01...|            0|  631403|            0|        1|       0|         2|        1|        0|      Post|[HAS_TE...|  62066|GROUP_O...|     WEB|               0|\n",
      "+-------------+----------+-------------+--------+-------------+---------+--------+----------+---------+---------+----------+----------+-------+----------+--------+----------------+\n",
      "only showing top 5 rows\n",
      "\n"
     ]
    },
    {
     "data": {
      "text/plain": [
       "\u001b[36mcontent_test\u001b[39m: \u001b[32mDataFrame\u001b[39m = [key: string, timestamp: bigint ... 1 more field]\n",
       "\u001b[36mcontent_test1\u001b[39m: \u001b[32mDataFrame\u001b[39m = [content_objID: string, ts2: timestamp ... 14 more fields]"
      ]
     },
     "execution_count": 111,
     "metadata": {},
     "output_type": "execute_result"
    }
   ],
   "source": [
    "val content_test = spark.read.json(\"../data/processed/stg_content_test/*.json\")\n",
    "\n",
    "val content_test1 = content_test.select(\n",
    "    $\"key\" as \"content_objID\", \n",
    "    $\"timestamp\" /1000 cast \"timestamp\"  as \"ts2\", \n",
    "    $\"value.*\")\n",
    "\n",
    "content_test1.show(5,10)"
   ]
  },
  {
   "cell_type": "code",
   "execution_count": 112,
   "metadata": {},
   "outputs": [
    {
     "name": "stdout",
     "output_type": "stream",
     "text": [
      "+-------------+-----+\n",
      "|content_objID|count|\n",
      "+-------------+-----+\n",
      "|     18571840|    2|\n",
      "+-------------+-----+\n",
      "\n"
     ]
    }
   ],
   "source": [
    "content_test1.groupBy(\"content_objID\").count().filter(\"count > 1\").show()"
   ]
  },
  {
   "cell_type": "code",
   "execution_count": 113,
   "metadata": {},
   "outputs": [
    {
     "name": "stdout",
     "output_type": "stream",
     "text": [
      "+-------------+-------------------+-------------+--------+-------------+---------+--------+----------+---------+---------+----------+--------------------+-------+-------------------+--------+----------------+\n",
      "|content_objID|                ts2|applicationId|authorId|numCompanions|numPhotos|numPolls|numSymbols|numTokens|numVideos|objectType|             options|ownerId|          ownerType|platform|totalVideoLength|\n",
      "+-------------+-------------------+-------------+--------+-------------+---------+--------+----------+---------+---------+----------+--------------------+-------+-------------------+--------+----------------+\n",
      "|     18571840|2018-01-02 15:02:27|            0|  726145|            0|        1|       0|       462|       56|        0|      Post|[HAS_TEXT, HAS_PH...|  40134|GROUP_OPEN_OFFICIAL|     WEB|               0|\n",
      "|     18571840|2018-01-02 15:02:27|            0|  726145|            0|        2|       0|       462|       56|        0|      Post|[HAS_TEXT, HAS_PH...|  40134|GROUP_OPEN_OFFICIAL|     WEB|               0|\n",
      "+-------------+-------------------+-------------+--------+-------------+---------+--------+----------+---------+---------+----------+--------------------+-------+-------------------+--------+----------------+\n",
      "\n"
     ]
    }
   ],
   "source": [
    "content_test1.filter(\"content_objID = 18571840\").show()"
   ]
  },
  {
   "cell_type": "code",
   "execution_count": 114,
   "metadata": {},
   "outputs": [
    {
     "name": "stdout",
     "output_type": "stream",
     "text": [
      "+--------------+--------------+--------------------+--------------------+\n",
      "|feedback_useID|feedback_objID|                 ts1|            feedback|\n",
      "+--------------+--------------+--------------------+--------------------+\n",
      "|       6336744|      18571840|2018-02-09 12:33:...|           [Clicked]|\n",
      "|       6336744|      18571840|2018-02-09 12:33:...|           [Clicked]|\n",
      "|       5538045|      18571840|2018-02-10 19:56:...|          [Disliked]|\n",
      "|       5538045|      18571840|2018-02-10 19:56:...|          [Disliked]|\n",
      "|       7808703|      18571840|2018-03-05 04:37:...|           [Ignored]|\n",
      "|       7808703|      18571840|2018-03-05 04:37:...|           [Ignored]|\n",
      "|      13776732|      18571840|2018-02-10 11:33:...|           [Ignored]|\n",
      "|      13776732|      18571840|2018-02-10 11:33:...|           [Ignored]|\n",
      "|       1042290|      18571840|2018-02-23 07:12:...|           [Ignored]|\n",
      "|       1042290|      18571840|2018-02-23 07:12:...|           [Ignored]|\n",
      "|      12595017|      18571840|2018-03-06 05:25:...|[Clicked, ReShare...|\n",
      "|      12595017|      18571840|2018-03-06 05:25:...|[Clicked, ReShare...|\n",
      "|      15544770|      18571840|2018-02-28 00:23:...|           [Ignored]|\n",
      "|      15544770|      18571840|2018-02-28 00:23:...|           [Ignored]|\n",
      "|      11055765|      18571840|2018-02-18 16:24:...|          [Disliked]|\n",
      "|      11055765|      18571840|2018-02-18 16:24:...|          [Disliked]|\n",
      "|      10330464|      18571840|2018-02-06 17:02:...|  [Clicked, Ignored]|\n",
      "|      10330464|      18571840|2018-02-06 17:02:...|  [Clicked, Ignored]|\n",
      "|       4956369|      18571840|2018-02-14 13:25:...|             [Liked]|\n",
      "|       4956369|      18571840|2018-02-14 13:25:...|             [Liked]|\n",
      "+--------------+--------------+--------------------+--------------------+\n",
      "only showing top 20 rows\n",
      "\n"
     ]
    }
   ],
   "source": [
    "feedback_test1.filter(\"feedback_objID = 18571840\").show()"
   ]
  },
  {
   "cell_type": "code",
   "execution_count": null,
   "metadata": {},
   "outputs": [],
   "source": []
  },
  {
   "cell_type": "code",
   "execution_count": 115,
   "metadata": {},
   "outputs": [
    {
     "name": "stdout",
     "output_type": "stream",
     "text": [
      "+--------------+--------------+--------------------+-----------------+------+-------------+-------------------+----------+--------------------+--------+----------+------+--------+\n",
      "|feedback_useID|feedback_objID|                 ts1|         feedback|target|content_objID|                ts2|objectType|             options|   useID|birth_date|gender|daysDiff|\n",
      "+--------------+--------------+--------------------+-----------------+------+-------------+-------------------+----------+--------------------+--------+----------+------+--------+\n",
      "|        441201|      18664504|2018-02-10 13:42:...|          [Liked]|     1|     18664504|2018-01-01 21:15:15|      Post|[HAS_TEXT, HAS_PH...|  441201|     -1670|     2|      40|\n",
      "|        799119|      14946639|2018-02-04 22:26:...|        [Ignored]|     0|     14946639|2018-01-01 16:06:12|      Post|[HAS_PHOTOS, IS_P...|  799119|      4981|     2|      34|\n",
      "|       2125926|      16233042|2018-03-06 15:11:...|        [Clicked]|     0|     16233042|2018-01-01 13:24:34|      Post|[HAS_TEXT, HAS_PH...| 2125926|     -1219|     2|      64|\n",
      "|       2125926|      16233042|2018-03-06 15:11:...|        [Clicked]|     0|     16233042|2018-01-01 13:24:34|      Post|[HAS_TEXT, HAS_PH...| 2125926|     -1219|     2|      64|\n",
      "|       2472381|      12955808|2018-02-18 20:39:...| [Clicked, Liked]|     1|     12955808|2018-01-02 11:10:20|      Post|[HAS_PHOTOS, HAS_...| 2472381|       690|     1|      47|\n",
      "|       5324739|      12061203|2018-02-26 12:06:...|[ReShared, Liked]|     1|     12061203|2018-01-01 22:12:33|      Post|[HAS_TEXT, HAS_PH...| 5324739|      2276|     2|      56|\n",
      "|       6215178|      19678241|2018-03-18 18:54:...|        [Ignored]|     0|     19678241|2018-01-02 14:10:13|      Post|[HAS_TEXT, HAS_PH...| 6215178|      3763|     2|      75|\n",
      "|       9585438|      11602205|2018-02-24 05:22:...|        [Ignored]|     0|     11602205|2018-01-01 07:01:49|      Post|[HAS_TEXT, HAS_PH...| 9585438|     -3641|     2|      54|\n",
      "|      11139201|        318005|2018-02-16 08:22:...|        [Clicked]|     0|       318005|2018-01-02 13:03:26|     Video|[HAS_TEXT, HAS_VI...|11139201|       108|     2|      45|\n",
      "|      11998680|      11221200|2018-02-09 14:09:...|        [Ignored]|     0|     11221200|2018-01-01 09:00:59|      Post|[HAS_TEXT, HAS_UR...|11998680|      3997|     1|      39|\n",
      "+--------------+--------------+--------------------+-----------------+------+-------------+-------------------+----------+--------------------+--------+----------+------+--------+\n",
      "only showing top 10 rows\n",
      "\n"
     ]
    },
    {
     "data": {
      "text/plain": [
       "\u001b[36mdf_join\u001b[39m: \u001b[32mDataFrame\u001b[39m = [feedback_useID: string, feedback_objID: string ... 11 more fields]\n",
       "\u001b[36mres114_2\u001b[39m: \u001b[32mLong\u001b[39m = \u001b[32m2878L\u001b[39m"
      ]
     },
     "execution_count": 115,
     "metadata": {},
     "output_type": "execute_result"
    }
   ],
   "source": [
    "val df_join = \n",
    "feedback_test1.withColumn(\"target\", array_contains($\"feedback\", \"Liked\") cast \"int\")\n",
    ".join(\n",
    "content_test1.select(\"content_objID\",\"ts2\",\"objectType\",\"options\"), \n",
    "expr(\"feedback_objID == content_objID\"), \"left\"\n",
    ")\n",
    ".join(\n",
    "userinfo.withColumnRenamed(\"userId\", \"useID\").select(\"useID\",\"birth_date\", \"gender\"),\n",
    "expr(\"feedback_useID == useID\"), \"left\"\n",
    ").withColumn(\"daysDiff\", datediff($\"ts1\",$\"ts2\"))\n",
    "\n",
    "df_join.show(10)\n",
    "df_join.count()"
   ]
  },
  {
   "cell_type": "code",
   "execution_count": 116,
   "metadata": {},
   "outputs": [
    {
     "data": {
      "text/plain": [
       "\u001b[36mres115\u001b[39m: \u001b[32mLong\u001b[39m = \u001b[32m392L\u001b[39m"
      ]
     },
     "execution_count": 116,
     "metadata": {},
     "output_type": "execute_result"
    }
   ],
   "source": [
    "(\n",
    "    df_join\n",
    "    .select(\"feedback_useID\",\"feedback_objID\")\n",
    "    .withColumn(\"feedback_ID\", concat_ws(\"_\", $\"feedback_useID\", $\"feedback_objID\"))\n",
    "    .groupBy(\"feedback_ID\")\n",
    "    .count()\n",
    "    .filter(\"count > 1\")\n",
    "    .count()\n",
    ")"
   ]
  },
  {
   "cell_type": "code",
   "execution_count": 117,
   "metadata": {},
   "outputs": [
    {
     "data": {
      "text/plain": [
       "\u001b[36mdf_join1\u001b[39m: \u001b[32mDataset\u001b[39m[\u001b[32mRow\u001b[39m] = [feedback_useID: string, feedback_objID: string ... 7 more fields]"
      ]
     },
     "execution_count": 117,
     "metadata": {},
     "output_type": "execute_result"
    }
   ],
   "source": [
    "val df_join1 = \n",
    "feedback_test1.withColumn(\"target\", array_contains($\"feedback\", \"Liked\") cast \"int\")\n",
    ".join(\n",
    "    right = content_test1.select(\"content_objID\", \"ts2\", \"objectType\", \"options\"), \n",
    "    joinExprs = \n",
    "        feedback_test1(\"feedback_objID\") === content_test1(\"content_objID\") && \n",
    "        feedback_test1(\"ts1\").geq(content_test1(\"ts2\")) && \n",
    "        feedback_test1(\"ts1\").leq(content_test1(\"ts2\") + expr(\"interval 3 months\")), \n",
    "    joinType = \"left\"\n",
    ").filter(\"content_objID is not null\")"
   ]
  },
  {
   "cell_type": "code",
   "execution_count": 118,
   "metadata": {},
   "outputs": [
    {
     "name": "stdout",
     "output_type": "stream",
     "text": [
      "root\n",
      " |-- feedback_useID: string (nullable = true)\n",
      " |-- feedback_objID: string (nullable = true)\n",
      " |-- ts1: timestamp (nullable = true)\n",
      " |-- feedback: array (nullable = true)\n",
      " |    |-- element: string (containsNull = true)\n",
      " |-- target: integer (nullable = true)\n",
      " |-- content_objID: string (nullable = true)\n",
      " |-- ts2: timestamp (nullable = true)\n",
      " |-- objectType: string (nullable = true)\n",
      " |-- options: array (nullable = true)\n",
      " |    |-- element: string (containsNull = true)\n",
      "\n"
     ]
    }
   ],
   "source": [
    "df_join1.printSchema"
   ]
  },
  {
   "cell_type": "code",
   "execution_count": 119,
   "metadata": {},
   "outputs": [
    {
     "name": "stdout",
     "output_type": "stream",
     "text": [
      "+--------------+--------------+--------------------+---------+------+-------------+-------------------+----------+--------------------+\n",
      "|feedback_useID|feedback_objID|                 ts1| feedback|target|content_objID|                ts2|objectType|             options|\n",
      "+--------------+--------------+--------------------+---------+------+-------------+-------------------+----------+--------------------+\n",
      "|      10486914|        304539|2018-02-18 11:57:...|[Clicked]|     0|       304539|2018-01-01 13:40:34|     Video|[HAS_TEXT, HAS_VI...|\n",
      "|      11248422|      14838919|2018-02-24 15:09:...|[Ignored]|     0|     14838919|2018-01-02 14:55:06|      Post|[HAS_TEXT, HAS_PH...|\n",
      "|      11972100|      22599605|2018-02-06 17:26:...|[Ignored]|     0|     22599605|2018-01-02 07:00:22|      Post|[HAS_TEXT, HAS_PH...|\n",
      "|      14952438|      12465334|2018-03-03 13:17:...|  [Liked]|     1|     12465334|2018-01-01 19:01:35|      Post|[HAS_PHOTOS, IS_P...|\n",
      "|      15279759|        304539|2018-03-13 02:46:...|[Ignored]|     0|       304539|2018-01-01 13:40:34|     Video|[HAS_TEXT, HAS_VI...|\n",
      "+--------------+--------------+--------------------+---------+------+-------------+-------------------+----------+--------------------+\n",
      "only showing top 5 rows\n",
      "\n"
     ]
    }
   ],
   "source": [
    "df_join1.show(5)"
   ]
  },
  {
   "cell_type": "code",
   "execution_count": 120,
   "metadata": {},
   "outputs": [
    {
     "data": {
      "text/plain": [
       "\u001b[36mres119\u001b[39m: \u001b[32mLong\u001b[39m = \u001b[32m2428L\u001b[39m"
      ]
     },
     "execution_count": 120,
     "metadata": {},
     "output_type": "execute_result"
    }
   ],
   "source": [
    "df_join1.count()"
   ]
  },
  {
   "cell_type": "code",
   "execution_count": 121,
   "metadata": {},
   "outputs": [
    {
     "data": {
      "text/plain": [
       "\u001b[36mres120\u001b[39m: \u001b[32mColumn\u001b[39m = ((ts1 >= ts2) AND (ts1 <= (ts2 + interval 1 months)))"
      ]
     },
     "execution_count": 121,
     "metadata": {},
     "output_type": "execute_result"
    }
   ],
   "source": [
    "feedback_test1(\"ts1\").geq(content_test1(\"ts2\")) && feedback_test1(\"ts1\").leq(content_test1(\"ts2\") + expr(\"interval 1 months\"))"
   ]
  },
  {
   "cell_type": "code",
   "execution_count": 122,
   "metadata": {},
   "outputs": [
    {
     "data": {
      "text/plain": [
       "\u001b[36mres121\u001b[39m: \u001b[32mColumn\u001b[39m = interval 1 months"
      ]
     },
     "execution_count": 122,
     "metadata": {},
     "output_type": "execute_result"
    }
   ],
   "source": [
    "expr(\"interval 1 months\")"
   ]
  },
  {
   "cell_type": "code",
   "execution_count": 123,
   "metadata": {},
   "outputs": [
    {
     "name": "stdout",
     "output_type": "stream",
     "text": [
      "+--------------------+--------------------+\n",
      "|                 ts1|             ts1_int|\n",
      "+--------------------+--------------------+\n",
      "|2018-02-18 11:57:...|2018-03-18 11:57:...|\n",
      "|2018-02-24 15:09:...|2018-03-24 15:09:...|\n",
      "|2018-02-06 17:26:...|2018-03-06 17:26:...|\n",
      "|2018-03-03 13:17:...|2018-04-03 13:17:...|\n",
      "|2018-03-13 02:46:...|2018-04-13 02:46:...|\n",
      "|2018-02-17 18:29:...|2018-03-17 18:29:...|\n",
      "|2018-02-21 15:59:...|2018-03-21 15:59:...|\n",
      "|2018-02-06 22:11:...|2018-03-06 22:11:...|\n",
      "|2018-02-03 07:56:...|2018-03-03 07:56:...|\n",
      "|2018-02-15 00:39:...|2018-03-15 00:39:...|\n",
      "|2018-03-10 04:16:...|2018-04-10 04:16:...|\n",
      "|2018-02-04 12:57:...|2018-03-04 12:57:...|\n",
      "|2018-02-13 20:51:...|2018-03-13 20:51:...|\n",
      "|2018-03-08 15:47:...|2018-04-08 15:47:...|\n",
      "|2018-03-04 05:01:...|2018-04-04 05:01:...|\n",
      "|2018-02-23 19:19:...|2018-03-23 19:19:...|\n",
      "|2018-02-07 18:38:...|2018-03-07 18:38:...|\n",
      "|2018-03-21 13:37:...|2018-04-21 13:37:...|\n",
      "|2018-02-05 18:32:...|2018-03-05 18:32:...|\n",
      "|2018-02-22 11:00:...|2018-03-22 11:00:...|\n",
      "+--------------------+--------------------+\n",
      "only showing top 20 rows\n",
      "\n"
     ]
    }
   ],
   "source": [
    "feedback_test1.select($\"ts1\", $\"ts1\" + expr(\"interval 1 months\") as \"ts1_int\").show()"
   ]
  },
  {
   "cell_type": "code",
   "execution_count": 124,
   "metadata": {},
   "outputs": [
    {
     "name": "stdout",
     "output_type": "stream",
     "text": [
      "-RECORD 0--------------------------------------------------\n",
      " feedback_useID | 3967689                                  \n",
      " feedback_objID | 9853823                                  \n",
      " ts1            | 2018-02-12 10:40:58.933                  \n",
      " feedback       | [Ignored]                                \n",
      " target         | 0                                        \n",
      " content_objID  | 9853823                                  \n",
      " ts2            | 2018-01-01 09:50:18                      \n",
      " objectType     | Post                                     \n",
      " options        | [HAS_TEXT, HAS_PHOTOS, IS_PART_OF_TOPIC] \n",
      " useID          | 3967689                                  \n",
      " birth_date     | 4536                                     \n",
      " gender         | 2                                        \n",
      " daysDiff       | 42                                       \n",
      "\n"
     ]
    }
   ],
   "source": [
    "df_join.filter(\"feedback_useID = '3967689' and feedback_objID = '9853823'\").show(1,100,true)"
   ]
  },
  {
   "cell_type": "code",
   "execution_count": null,
   "metadata": {},
   "outputs": [],
   "source": []
  },
  {
   "cell_type": "code",
   "execution_count": null,
   "metadata": {},
   "outputs": [],
   "source": []
  },
  {
   "cell_type": "code",
   "execution_count": 47,
   "metadata": {},
   "outputs": [
    {
     "name": "stderr",
     "output_type": "stream",
     "text": [
      "cmd47.sc:1: not found: value df_ts\n",
      "val res47_0 = df_ts.unpersist()\n",
      "              ^cmd47.sc:2: not found: value df\n",
      "val res47_1 = df.unpersist()\n",
      "              ^Compilation Failed"
     ]
    },
    {
     "ename": "",
     "evalue": "",
     "output_type": "error",
     "traceback": [
      "Compilation Failed"
     ]
    }
   ],
   "source": [
    "df_ts.unpersist()\n",
    "df.unpersist()"
   ]
  },
  {
   "cell_type": "code",
   "execution_count": 48,
   "metadata": {},
   "outputs": [],
   "source": [
    "spark.catalog.clearCache()\n",
    "spark.close()\n",
    "spark.stop()"
   ]
  },
  {
   "cell_type": "code",
   "execution_count": null,
   "metadata": {},
   "outputs": [],
   "source": []
  },
  {
   "cell_type": "code",
   "execution_count": 53,
   "metadata": {},
   "outputs": [
    {
     "name": "stdout",
     "output_type": "stream",
     "text": [
      "2.9G\t../data/processed/\n"
     ]
    },
    {
     "data": {
      "text/plain": [
       "\u001b[36mres52\u001b[39m: \u001b[32mInt\u001b[39m = \u001b[32m0\u001b[39m"
      ]
     },
     "execution_count": 53,
     "metadata": {},
     "output_type": "execute_result"
    }
   ],
   "source": [
    "f\"du -s -h ../data/processed/\" !"
   ]
  },
  {
   "cell_type": "code",
   "execution_count": 18,
   "metadata": {},
   "outputs": [
    {
     "name": "stdout",
     "output_type": "stream",
     "text": [
      "/home/jovyan/work/notebooks\n"
     ]
    },
    {
     "data": {
      "text/plain": [
       "\u001b[36mres17\u001b[39m: \u001b[32mInt\u001b[39m = \u001b[32m0\u001b[39m"
      ]
     },
     "execution_count": 18,
     "metadata": {},
     "output_type": "execute_result"
    }
   ],
   "source": [
    "\"pwd\" !"
   ]
  },
  {
   "cell_type": "code",
   "execution_count": 24,
   "metadata": {},
   "outputs": [
    {
     "name": "stdout",
     "output_type": "stream",
     "text": [
      "16K\t../data/processed/stg_content_example\n",
      "1.9G\t../data/processed/stg_feedback\n",
      "946M\t../data/processed/stg_content\n",
      "16K\t../data/processed/stg_feedback_example\n",
      "272K\t../data/processed/stg_feedback_test\n",
      "8.0K\t../data/processed/stg_userinfo_example/.ipynb_checkpoints\n",
      "24K\t../data/processed/stg_userinfo_example\n",
      "4.0K\t../data/processed/stg_userinfo/.ipynb_checkpoints\n",
      "87M\t../data/processed/stg_userinfo\n",
      "352K\t../data/processed/stg_content_test\n",
      "8.0K\t../data/processed/.ipynb_checkpoints\n",
      "2.9G\t../data/processed\n"
     ]
    },
    {
     "data": {
      "text/plain": [
       "\u001b[36mres23\u001b[39m: \u001b[32mInt\u001b[39m = \u001b[32m0\u001b[39m"
      ]
     },
     "execution_count": 24,
     "metadata": {},
     "output_type": "execute_result"
    }
   ],
   "source": [
    "f\"du -h ../data/processed\" !"
   ]
  },
  {
   "cell_type": "code",
   "execution_count": null,
   "metadata": {},
   "outputs": [],
   "source": []
  },
  {
   "cell_type": "markdown",
   "metadata": {},
   "source": [
    "<br>**Тестируем процессинг**"
   ]
  },
  {
   "cell_type": "code",
   "execution_count": null,
   "metadata": {},
   "outputs": [],
   "source": [
    "import org.apache.spark.sql._\n",
    "import org.apache.spark.sql.functions._\n",
    "import org.apache.spark.sql.types._\n",
    "\n",
    "import org.apache.spark.ml.feature.{HashingTF, IDF, Tokenizer, VectorAssembler}\n",
    "\n",
    "val stringStack = concat_ws(\" \", \n",
    "                            concat(lit(\"sex_\"), $\"user_gender\".cast(StringType)),\n",
    "                            concat(lit(\"status_\"), $\"user_status\".cast(StringType)),\n",
    "                            concat(lit(\"country_\"),$\"user_ID_country\".cast(StringType)),\n",
    "                            concat(lit(\"location_\"), $\"user_ID_Location\".cast(StringType)),\n",
    "                            concat(lit(\"region_\"), $\"user_region\".cast(StringType)),\n",
    "                            when($\"user_is_active\" === 1, \"is_active\"),\n",
    "                            when($\"user_is_deleted\" === 1, \"is_deleted\"),\n",
    "                            when($\"user_is_abused\" === 1, \"is_abused\"),\n",
    "                            when($\"user_is_activated\" === 1, \"is_activated\"),\n",
    "                            concat(lit(\"ustatus_\"), coalesce(lower($\"membership_status\"), lit(\"none\"))), \n",
    "                            lower($\"instanceId_objectType\"), \n",
    "                            lower(concat_ws(\" \", $\"metadata_options\")), \n",
    "                            lower($\"metadata_ownerType\"), \n",
    "                            lower($\"metadata_platform\")\n",
    "                           )\n",
    "\n",
    "df.withColumn(\"stringStack\", stringStack).select(\"stringStack\").show(3,200,true)\n",
    "\n",
    "val tokenizer = (new Tokenizer()\n",
    "                 .setInputCol(\"stringStack\")\n",
    "                 .setOutputCol(\"tokens\")\n",
    "                )\n",
    "\n",
    "val tokensData = (\n",
    "    tokenizer\n",
    "    .transform(\n",
    "        df\n",
    "        .withColumn(\"stringStack\", stringStack)\n",
    "        .select(\"metadata_numCompanions\",\n",
    "                \"metadata_numPhotos\",\n",
    "                \"metadata_numPolls\",\n",
    "                \"metadata_numSymbols\",\n",
    "                \"metadata_numTokens\",\n",
    "                \"metadata_numVideos\",\n",
    "                \"stringStack\")\n",
    "    )\n",
    ")\n",
    "\n",
    "val hashingTF = (new HashingTF()\n",
    "                 .setInputCol(\"tokens\")\n",
    "                 .setOutputCol(\"rawFeatures\")\n",
    "                 .setNumFeatures(10000)\n",
    "                )\n",
    "\n",
    "val featurizedData = (hashingTF\n",
    "                      .transform(tokensData)\n",
    "                     )\n",
    "\n",
    "val idf = (new IDF()\n",
    "           .setInputCol(\"rawFeatures\")\n",
    "           .setOutputCol(\"features_tfidf\")\n",
    "          )\n",
    "\n",
    "val idfModel = idf.fit(featurizedData)\n",
    "\n",
    "val tfidfData = idfModel.transform(featurizedData)\n",
    "\n",
    "val assembler = (new VectorAssembler()\n",
    "                 .setInputCols(Array(\"features_tfidf\", \n",
    "                                     \"metadata_numCompanions\",\n",
    "                                     \"metadata_numPhotos\",\n",
    "                                     \"metadata_numPolls\",\n",
    "                                     \"metadata_numSymbols\",\n",
    "                                     \"metadata_numTokens\",\n",
    "                                     \"metadata_numVideos\"))\n",
    "                 .setOutputCol(\"features\")\n",
    "                )\n",
    "\n",
    "val assembled = assembler.transform(tfidfData)\n",
    "\n",
    "assembled.show(10,10)"
   ]
  },
  {
   "cell_type": "code",
   "execution_count": null,
   "metadata": {},
   "outputs": [],
   "source": []
  },
  {
   "cell_type": "code",
   "execution_count": null,
   "metadata": {},
   "outputs": [],
   "source": []
  },
  {
   "cell_type": "code",
   "execution_count": null,
   "metadata": {},
   "outputs": [],
   "source": []
  },
  {
   "cell_type": "code",
   "execution_count": null,
   "metadata": {},
   "outputs": [],
   "source": []
  },
  {
   "cell_type": "code",
   "execution_count": null,
   "metadata": {},
   "outputs": [],
   "source": []
  },
  {
   "cell_type": "code",
   "execution_count": null,
   "metadata": {},
   "outputs": [],
   "source": []
  },
  {
   "cell_type": "code",
   "execution_count": null,
   "metadata": {},
   "outputs": [],
   "source": [
    "// sudo docker exec -it almond /bin/bash\n",
    "// \"mv stg_content/part*.json content.json\" !\n",
    "// \"rm -rf ../data/processed/stg_content\" !\n",
    "\n",
    "// \"mv stg_userobject/part*.json userobject.json\" !\n",
    "// \"rm -rf ../data/processed/stg_userobject\" !\n",
    "\n",
    "// \"mv stg_stg_userinfo/part*.parquet userinfo.parquet\" !\n",
    "// \"rm -rf ../data/processed/stg_parquet\" !"
   ]
  },
  {
   "cell_type": "code",
   "execution_count": null,
   "metadata": {},
   "outputs": [],
   "source": []
  },
  {
   "cell_type": "code",
   "execution_count": null,
   "metadata": {},
   "outputs": [],
   "source": []
  }
 ],
 "metadata": {
  "kernelspec": {
   "display_name": "Scala 2.12",
   "language": "scala",
   "name": "scala212"
  },
  "language_info": {
   "codemirror_mode": "text/x-scala",
   "file_extension": ".sc",
   "mimetype": "text/x-scala",
   "name": "scala",
   "nbconvert_exporter": "script",
   "version": "2.12.12"
  }
 },
 "nbformat": 4,
 "nbformat_minor": 4
}
