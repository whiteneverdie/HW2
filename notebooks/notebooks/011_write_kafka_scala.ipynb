{
 "cells": [
  {
   "cell_type": "markdown",
   "metadata": {},
   "source": [
    "#### **Под катом два продюсера - TOPIC 1 (CONTENT) и TOPIC 2 (FEEDBACK)** - вынесено в два ноутбука - для тестирования"
   ]
  },
  {
   "cell_type": "code",
   "execution_count": 1,
   "metadata": {},
   "outputs": [
    {
     "data": {
      "text/plain": [
       "\u001b[32mimport \u001b[39m\u001b[36m$ivy.$                                            \n",
       "\u001b[39m\n",
       "\u001b[32mimport \u001b[39m\u001b[36m$ivy.$                            \n",
       "\u001b[39m\n",
       "\u001b[32mimport \u001b[39m\u001b[36m$ivy.$                           \u001b[39m"
      ]
     },
     "execution_count": 1,
     "metadata": {},
     "output_type": "execute_result"
    }
   ],
   "source": [
    "import $ivy.`org.apache.kafka::kafka-streams-scala:2.4.0`\n",
    "import $ivy.`org.slf4j:slf4j-nop:1.7.21` \n",
    "import $ivy.`com.lihaoyi::upickle:0.7.1`"
   ]
  },
  {
   "cell_type": "markdown",
   "metadata": {},
   "source": [
    "<br>`чтение из json-файла и запись в топик  - симуляция стримингового источника через наполнение кафки`"
   ]
  },
  {
   "cell_type": "code",
   "execution_count": 2,
   "metadata": {},
   "outputs": [
    {
     "data": {
      "text/plain": [
       "defined \u001b[32mfunction\u001b[39m \u001b[36mwriteToKafka\u001b[39m"
      ]
     },
     "execution_count": 2,
     "metadata": {},
     "output_type": "execute_result"
    }
   ],
   "source": [
    "def writeToKafka(FILE: String, TOPIC: String, waitEveryN: Int = 10000, waitSecond: Int = 5) = {\n",
    "    \n",
    "    import scala.io.Source\n",
    "    import java.util.Properties\n",
    "    import org.apache.kafka.clients.producer._\n",
    "    \n",
    "    val kafkaProps = Map(\n",
    "        \"bootstrap.servers\" -> \"172.27.1.16:9092\",\n",
    "        \"key.serializer\"    -> \"org.apache.kafka.common.serialization.StringSerializer\",\n",
    "        \"value.serializer\"  -> \"org.apache.kafka.common.serialization.StringSerializer\"\n",
    "    )\n",
    "    val props = new Properties()\n",
    "    kafkaProps.foreach {case (k,v) => props.put(k,v)}    \n",
    "    \n",
    "    val producer = new KafkaProducer[String, String](props)\n",
    "    var counter   = 0\n",
    "//     var waitEveryN = 10000\n",
    "//     var waitSecond = 5\n",
    "    for (line <- Source.fromFile(FILE).getLines) {\n",
    "        val timestamp = ujson.read(line).obj(\"timestamp\").num.toLong\n",
    "        val key       = ujson.read(line).obj(\"key\").str\n",
    "        val value     = ujson.read(line).obj(\"value\").toString\n",
    "            \n",
    "        if (timestamp > 0) {\n",
    "            val record = new ProducerRecord(TOPIC, null, timestamp, key, value)\n",
    "            producer.send(record)\n",
    "            counter += 1\n",
    "            if (counter%waitEveryN == 0) {\n",
    "                Thread.sleep(waitSecond*1000)\n",
    "            }\n",
    "        } \n",
    "          \n",
    "    } \n",
    "    println(s\"was sent $counter messages to topic: $TOPIC\")\n",
    "    producer.close()    \n",
    "}"
   ]
  },
  {
   "cell_type": "markdown",
   "metadata": {},
   "source": [
    "<br>**Тестовые топики** (в .json файлах Topik_1 ~1k Topik_2 ~2k записей)"
   ]
  },
  {
   "cell_type": "code",
   "execution_count": 8,
   "metadata": {},
   "outputs": [
    {
     "name": "stdout",
     "output_type": "stream",
     "text": [
      "was sent 1000 messages to topic: content_topic_test\n"
     ]
    }
   ],
   "source": [
    "// TOPIC 1 - CONTENT PRODUCER\n",
    "\n",
    "writeToKafka(\n",
    "    FILE=\"../data/processed/stg_content_test/content_test.json\", \n",
    "    TOPIC=\"content_topic_test\", \n",
    "    waitEveryN=1000, \n",
    "    waitSecond=2\n",
    ")"
   ]
  },
  {
   "cell_type": "code",
   "execution_count": null,
   "metadata": {},
   "outputs": [],
   "source": [
    "// TOPIC 2 - FEEDBACK PRODUCER\n",
    "\n",
    "// writeToKafka(\n",
    "//     FILE=\"../data/processed/stg_feedback_test/feedback_test.json\", \n",
    "//     TOPIC=\"feedback_topic_test\", \n",
    "//     waitEveryN=3000, \n",
    "//     waitSecond=2\n",
    "// )"
   ]
  },
  {
   "cell_type": "code",
   "execution_count": null,
   "metadata": {},
   "outputs": [],
   "source": []
  },
  {
   "cell_type": "markdown",
   "metadata": {},
   "source": [
    "<br>**ПРОДЮСЕР-1** (~3kk записей)"
   ]
  },
  {
   "cell_type": "code",
   "execution_count": 11,
   "metadata": {},
   "outputs": [
    {
     "ename": "",
     "evalue": "",
     "output_type": "error",
     "traceback": [
      "Interrupted!\n  java.lang.Thread.sleep(\u001b[32mNative Method\u001b[39m)\n  ammonite.$sess.cmd1$Helper.$anonfun$writeToKafka$2(\u001b[32mcmd1.sc\u001b[39m:\u001b[32m29\u001b[39m)\n  ammonite.$sess.cmd1$Helper.$anonfun$writeToKafka$2$adapted(\u001b[32mcmd1.sc\u001b[39m:\u001b[32m19\u001b[39m)\n  ammonite.$sess.cmd1$Helper$$Lambda$2822/2010638569.apply(\u001b[32mUnknown Source\u001b[39m)\n  scala.collection.Iterator.foreach(\u001b[32mIterator.scala\u001b[39m:\u001b[32m943\u001b[39m)\n  scala.collection.Iterator.foreach$(\u001b[32mIterator.scala\u001b[39m:\u001b[32m943\u001b[39m)\n  scala.collection.AbstractIterator.foreach(\u001b[32mIterator.scala\u001b[39m:\u001b[32m1431\u001b[39m)\n  ammonite.$sess.cmd1$Helper.writeToKafka(\u001b[32mcmd1.sc\u001b[39m:\u001b[32m19\u001b[39m)\n  ammonite.$sess.cmd10$Helper.<init>(\u001b[32mcmd10.sc\u001b[39m:\u001b[32m5\u001b[39m)\n  ammonite.$sess.cmd10$.<init>(\u001b[32mcmd10.sc\u001b[39m:\u001b[32m7\u001b[39m)\n  ammonite.$sess.cmd10$.<clinit>(\u001b[32mcmd10.sc\u001b[39m:\u001b[32m-1\u001b[39m)"
     ]
    }
   ],
   "source": [
    "writeToKafka(\n",
    "    FILE=\"../data/processed/stg_content/content.json\", \n",
    "    TOPIC=\"content_topic\",\n",
    "    waitEveryN=10000, \n",
    "    waitSecond=10\n",
    ")"
   ]
  },
  {
   "cell_type": "markdown",
   "metadata": {},
   "source": [
    "**ПРОДЮСЕР-2** (18kk записей)"
   ]
  },
  {
   "cell_type": "code",
   "execution_count": null,
   "metadata": {},
   "outputs": [],
   "source": [
    "// writeToKafka(\n",
    "//     FILE=\"../data/processed/stg_feedback/feedback.json\", \n",
    "//     TOPIC=\"feedback_topic\",\n",
    "//     waitEveryN=10000, \n",
    "//     waitSecond=1\n",
    "// )"
   ]
  },
  {
   "cell_type": "code",
   "execution_count": null,
   "metadata": {},
   "outputs": [],
   "source": []
  },
  {
   "cell_type": "code",
   "execution_count": null,
   "metadata": {},
   "outputs": [],
   "source": []
  },
  {
   "cell_type": "code",
   "execution_count": null,
   "metadata": {},
   "outputs": [],
   "source": []
  },
  {
   "cell_type": "code",
   "execution_count": null,
   "metadata": {},
   "outputs": [],
   "source": []
  },
  {
   "cell_type": "code",
   "execution_count": null,
   "metadata": {},
   "outputs": [],
   "source": []
  },
  {
   "cell_type": "code",
   "execution_count": null,
   "metadata": {},
   "outputs": [],
   "source": []
  },
  {
   "cell_type": "code",
   "execution_count": null,
   "metadata": {},
   "outputs": [],
   "source": []
  },
  {
   "cell_type": "code",
   "execution_count": null,
   "metadata": {},
   "outputs": [],
   "source": []
  },
  {
   "cell_type": "code",
   "execution_count": null,
   "metadata": {},
   "outputs": [],
   "source": []
  },
  {
   "cell_type": "markdown",
   "metadata": {},
   "source": [
    "`немного json-а`\n",
    "<br>\n",
    "https://www.lihaoyi.com/post/HowtoworkwithJSONinScala.html"
   ]
  },
  {
   "cell_type": "code",
   "execution_count": 2,
   "metadata": {},
   "outputs": [
    {
     "name": "stdout",
     "output_type": "stream",
     "text": [
      "{\"timestamp\":1514765113000,\"key\":\"16876204\",\"value\":{\"objectType\":\"Post\",\"ownerId\":31419,\"ownerType\":\"GROUP_OPEN_OFFICIAL\",\"authorId\":680017,\"applicationId\":0,\"numCompanions\":0,\"numPhotos\":1,\"numPolls\":0,\"numSymbols\":0,\"numTokens\":0,\"numVideos\":0,\"platform\":\"OTHER\",\"totalVideoLength\":0,\"options\":[\"HAS_PHOTOS\",\"IS_PART_OF_TOPIC\"]}}\n",
      "{\"timestamp\":1514765801000,\"key\":\"289803\",\"value\":{\"objectType\":\"Video\",\"ownerId\":14174,\"ownerType\":\"GROUP_OPEN\",\"authorId\":905556,\"applicationId\":0,\"numCompanions\":0,\"numPhotos\":0,\"numPolls\":0,\"numSymbols\":32,\"numTokens\":2,\"numVideos\":0,\"platform\":\"ANDROID\",\"totalVideoLength\":60024,\"options\":[\"HAS_TEXT\",\"HAS_VIDEOS\",\"IS_EXTERNAL_SHARE\"]}}\n",
      "{\"timestamp\":1514766849000,\"key\":\"18216307\",\"value\":{\"objectType\":\"Post\",\"ownerId\":7221,\"ownerType\":\"GROUP_OPEN\",\"authorId\":678857,\"applicationId\":0,\"numCompanions\":0,\"numPhotos\":1,\"numPolls\":0,\"numSymbols\":43,\"numTokens\":5,\"numVideos\":0,\"platform\":\"WEB\",\"totalVideoLength\":0,\"options\":[\"HAS_TEXT\",\"HAS_PHOTOS\",\"IS_PART_OF_TOPIC\"]}}\n",
      "{\"timestamp\":1514768104000,\"key\":\"14853939\",\"value\":{\"objectType\":\"Post\",\"ownerId\":75713,\"ownerType\":\"GROUP_OPEN_OFFICIAL\",\"authorId\":480378,\"applicationId\":0,\"numCompanions\":0,\"numPhotos\":1,\"numPolls\":1,\"numSymbols\":0,\"numTokens\":0,\"numVideos\":0,\"platform\":\"OTHER\",\"totalVideoLength\":0,\"options\":[\"HAS_PHOTOS\",\"HAS_POLLS\",\"IS_PART_OF_TOPIC\"]}}\n",
      "{\"timestamp\":1514769845000,\"key\":\"24063312\",\"value\":{\"objectType\":\"Post\",\"ownerId\":62066,\"ownerType\":\"GROUP_OPEN_OFFICIAL\",\"authorId\":631403,\"applicationId\":0,\"numCompanions\":0,\"numPhotos\":1,\"numPolls\":0,\"numSymbols\":2,\"numTokens\":1,\"numVideos\":0,\"platform\":\"WEB\",\"totalVideoLength\":0,\"options\":[\"HAS_TEXT\",\"HAS_PHOTOS\",\"IS_PART_OF_TOPIC\"]}}\n"
     ]
    },
    {
     "data": {
      "text/plain": [
       "\u001b[32mimport \u001b[39m\u001b[36mscala.io.Source\n",
       "\u001b[39m\n",
       "\u001b[36mfilename\u001b[39m: \u001b[32mString\u001b[39m = \u001b[32m\"../data/processed/stg_content_example/example.json\"\u001b[39m"
      ]
     },
     "execution_count": 2,
     "metadata": {},
     "output_type": "execute_result"
    }
   ],
   "source": [
    "import scala.io.Source\n",
    "val filename = \"../data/processed/stg_content_example/example.json\"\n",
    "for (line <- Source.fromFile(filename).getLines.take(5)) {\n",
    "    println(line)\n",
    "}"
   ]
  },
  {
   "cell_type": "code",
   "execution_count": 3,
   "metadata": {},
   "outputs": [
    {
     "name": "stdout",
     "output_type": "stream",
     "text": [
      "{\"timestamp\":1514765113000,\"key\":\"16876204\",\"value\":{\"objectType\":\"Post\",\"ownerId\":31419,\"ownerType\":\"GROUP_OPEN_OFFICIAL\",\"authorId\":680017,\"applicationId\":0,\"numCompanions\":0,\"numPhotos\":1,\"numPolls\":0,\"numSymbols\":0,\"numTokens\":0,\"numVideos\":0,\"platform\":\"OTHER\",\"totalVideoLength\":0,\"options\":[\"HAS_PHOTOS\",\"IS_PART_OF_TOPIC\"]}}\n",
      "{\"timestamp\":1514765801000,\"key\":\"289803\",\"value\":{\"objectType\":\"Video\",\"ownerId\":14174,\"ownerType\":\"GROUP_OPEN\",\"authorId\":905556,\"applicationId\":0,\"numCompanions\":0,\"numPhotos\":0,\"numPolls\":0,\"numSymbols\":32,\"numTokens\":2,\"numVideos\":0,\"platform\":\"ANDROID\",\"totalVideoLength\":60024,\"options\":[\"HAS_TEXT\",\"HAS_VIDEOS\",\"IS_EXTERNAL_SHARE\"]}}\n",
      "{\"timestamp\":1514766849000,\"key\":\"18216307\",\"value\":{\"objectType\":\"Post\",\"ownerId\":7221,\"ownerType\":\"GROUP_OPEN\",\"authorId\":678857,\"applicationId\":0,\"numCompanions\":0,\"numPhotos\":1,\"numPolls\":0,\"numSymbols\":43,\"numTokens\":5,\"numVideos\":0,\"platform\":\"WEB\",\"totalVideoLength\":0,\"options\":[\"HAS_TEXT\",\"HAS_PHOTOS\",\"IS_PART_OF_TOPIC\"]}}\n",
      "{\"timestamp\":1514768104000,\"key\":\"14853939\",\"value\":{\"objectType\":\"Post\",\"ownerId\":75713,\"ownerType\":\"GROUP_OPEN_OFFICIAL\",\"authorId\":480378,\"applicationId\":0,\"numCompanions\":0,\"numPhotos\":1,\"numPolls\":1,\"numSymbols\":0,\"numTokens\":0,\"numVideos\":0,\"platform\":\"OTHER\",\"totalVideoLength\":0,\"options\":[\"HAS_PHOTOS\",\"HAS_POLLS\",\"IS_PART_OF_TOPIC\"]}}\n",
      "{\"timestamp\":1514769845000,\"key\":\"24063312\",\"value\":{\"objectType\":\"Post\",\"ownerId\":62066,\"ownerType\":\"GROUP_OPEN_OFFICIAL\",\"authorId\":631403,\"applicationId\":0,\"numCompanions\":0,\"numPhotos\":1,\"numPolls\":0,\"numSymbols\":2,\"numTokens\":1,\"numVideos\":0,\"platform\":\"WEB\",\"totalVideoLength\":0,\"options\":[\"HAS_TEXT\",\"HAS_PHOTOS\",\"IS_PART_OF_TOPIC\"]}}\n"
     ]
    },
    {
     "data": {
      "text/plain": [
       "\u001b[32mimport \u001b[39m\u001b[36mscala.io.Source\n",
       "\u001b[39m\n",
       "\u001b[36mfilename\u001b[39m: \u001b[32mString\u001b[39m = \u001b[32m\"../data/processed/stg_content/content.json\"\u001b[39m"
      ]
     },
     "execution_count": 3,
     "metadata": {},
     "output_type": "execute_result"
    }
   ],
   "source": [
    "import scala.io.Source\n",
    "val filename = \"../data/processed/stg_content/content.json\"\n",
    "for (line <- Source.fromFile(filename).getLines.take(5)) {\n",
    "    println(line)\n",
    "}"
   ]
  },
  {
   "cell_type": "code",
   "execution_count": 4,
   "metadata": {},
   "outputs": [
    {
     "name": "stdout",
     "output_type": "stream",
     "text": [
      "{\"timestamp\":1517432400333,\"key\":\"224685_30710100\",\"value\":{\"membership_status\":\"A\",\"feedback\":[\"Clicked\",\"Unliked\",\"Liked\"]}}\n",
      "{\"timestamp\":1517432400675,\"key\":\"8835387_36283522\",\"value\":{\"membership_status\":\"A\",\"feedback\":[\"Ignored\"]}}\n",
      "{\"timestamp\":1517432400687,\"key\":\"9505740_20360723\",\"value\":{\"membership_status\":\"A\",\"feedback\":[\"Ignored\"]}}\n",
      "{\"timestamp\":1517432401051,\"key\":\"8108256_19895436\",\"value\":{\"membership_status\":\"A\",\"feedback\":[\"Ignored\"]}}\n",
      "{\"timestamp\":1517432402347,\"key\":\"249777_24097819\",\"value\":{\"membership_status\":\"A\",\"feedback\":[\"Disliked\"]}}\n"
     ]
    },
    {
     "data": {
      "text/plain": [
       "\u001b[32mimport \u001b[39m\u001b[36mscala.io.Source\n",
       "\u001b[39m\n",
       "\u001b[36mfilename\u001b[39m: \u001b[32mString\u001b[39m = \u001b[32m\"../data/processed/stg_feedback_example/example.json\"\u001b[39m"
      ]
     },
     "execution_count": 4,
     "metadata": {},
     "output_type": "execute_result"
    }
   ],
   "source": [
    "import scala.io.Source\n",
    "val filename = \"../data/processed/stg_feedback_example/example.json\"\n",
    "for (line <- Source.fromFile(filename).getLines.take(5)) {\n",
    "    println(line)\n",
    "}"
   ]
  },
  {
   "cell_type": "code",
   "execution_count": 5,
   "metadata": {},
   "outputs": [
    {
     "name": "stdout",
     "output_type": "stream",
     "text": [
      "{\"timestamp\":1517432400333,\"key\":\"224685_30710100\",\"value\":{\"membership_status\":\"A\",\"feedback\":[\"Clicked\",\"Unliked\",\"Liked\"]}}\n",
      "{\"timestamp\":1517432400675,\"key\":\"8835387_36283522\",\"value\":{\"membership_status\":\"A\",\"feedback\":[\"Ignored\"]}}\n",
      "{\"timestamp\":1517432400687,\"key\":\"9505740_20360723\",\"value\":{\"membership_status\":\"A\",\"feedback\":[\"Ignored\"]}}\n",
      "{\"timestamp\":1517432401051,\"key\":\"8108256_19895436\",\"value\":{\"membership_status\":\"A\",\"feedback\":[\"Ignored\"]}}\n",
      "{\"timestamp\":1517432402347,\"key\":\"249777_24097819\",\"value\":{\"membership_status\":\"A\",\"feedback\":[\"Disliked\"]}}\n"
     ]
    },
    {
     "data": {
      "text/plain": [
       "\u001b[32mimport \u001b[39m\u001b[36mscala.io.Source\n",
       "\u001b[39m\n",
       "\u001b[36mfilename\u001b[39m: \u001b[32mString\u001b[39m = \u001b[32m\"../data/processed/stg_feedback/feedback.json\"\u001b[39m"
      ]
     },
     "execution_count": 5,
     "metadata": {},
     "output_type": "execute_result"
    }
   ],
   "source": [
    "import scala.io.Source\n",
    "val filename = \"../data/processed/stg_feedback/feedback.json\"\n",
    "for (line <- Source.fromFile(filename).getLines.take(5)) {\n",
    "    println(line)\n",
    "}"
   ]
  },
  {
   "cell_type": "code",
   "execution_count": 6,
   "metadata": {},
   "outputs": [
    {
     "data": {
      "text/plain": [
       "\u001b[36mjson_first\u001b[39m: \u001b[32mString\u001b[39m = \u001b[32m\"{\\\"timestamp\\\":1517432400333,\\\"key\\\":\\\"224685_30710100\\\",\\\"value\\\":{\\\"membership_status\\\":\\\"A\\\",\\\"feedback\\\":[\\\"Clicked\\\",\\\"Unliked\\\",\\\"Liked\\\"]}}\"\u001b[39m\n",
       "\u001b[36mdata\u001b[39m: \u001b[32mujson\u001b[39m.\u001b[32mValue\u001b[39m.\u001b[32mValue\u001b[39m = \u001b[33mObj\u001b[39m(\n",
       "  \u001b[33mMap\u001b[39m(\n",
       "    \u001b[32m\"timestamp\"\u001b[39m -> \u001b[33mNum\u001b[39m(\u001b[32m1.517432400333E12\u001b[39m),\n",
       "    \u001b[32m\"key\"\u001b[39m -> \u001b[33mStr\u001b[39m(\u001b[32m\"224685_30710100\"\u001b[39m),\n",
       "    \u001b[32m\"value\"\u001b[39m -> \u001b[33mObj\u001b[39m(\n",
       "      \u001b[33mMap\u001b[39m(\n",
       "        \u001b[32m\"membership_status\"\u001b[39m -> \u001b[33mStr\u001b[39m(\u001b[32m\"A\"\u001b[39m),\n",
       "        \u001b[32m\"feedback\"\u001b[39m -> \u001b[33mArr\u001b[39m(\u001b[33mArrayBuffer\u001b[39m(\u001b[33mStr\u001b[39m(\u001b[32m\"Clicked\"\u001b[39m), \u001b[33mStr\u001b[39m(\u001b[32m\"Unliked\"\u001b[39m), \u001b[33mStr\u001b[39m(\u001b[32m\"Liked\"\u001b[39m)))\n",
       "      )\n",
       "    )\n",
       "  )\n",
       ")"
      ]
     },
     "execution_count": 6,
     "metadata": {},
     "output_type": "execute_result"
    }
   ],
   "source": [
    "val json_first = Source.fromFile(filename).getLines.toList(0)\n",
    "val data = ujson.read(json_first)"
   ]
  },
  {
   "cell_type": "code",
   "execution_count": 7,
   "metadata": {},
   "outputs": [
    {
     "data": {
      "text/plain": [
       "\u001b[36mres6\u001b[39m: \u001b[32mInt\u001b[39m = \u001b[32m2147483647\u001b[39m"
      ]
     },
     "execution_count": 7,
     "metadata": {},
     "output_type": "execute_result"
    }
   ],
   "source": [
    "data.obj(\"timestamp\").num.toInt"
   ]
  },
  {
   "cell_type": "code",
   "execution_count": 8,
   "metadata": {},
   "outputs": [
    {
     "data": {
      "text/plain": [
       "\u001b[36mres7\u001b[39m: \u001b[32mString\u001b[39m = \u001b[32m\"224685_30710100\"\u001b[39m"
      ]
     },
     "execution_count": 8,
     "metadata": {},
     "output_type": "execute_result"
    }
   ],
   "source": [
    "data.obj(\"key\").str"
   ]
  },
  {
   "cell_type": "code",
   "execution_count": 9,
   "metadata": {},
   "outputs": [
    {
     "data": {
      "text/plain": [
       "\u001b[36mres8\u001b[39m: \u001b[32mBoolean\u001b[39m = true"
      ]
     },
     "execution_count": 9,
     "metadata": {},
     "output_type": "execute_result"
    }
   ],
   "source": [
    "data.obj(\"value\").toString == ujson.write(data.obj(\"value\"))"
   ]
  },
  {
   "cell_type": "code",
   "execution_count": 10,
   "metadata": {},
   "outputs": [
    {
     "data": {
      "text/plain": [
       "\u001b[36mres9\u001b[39m: \u001b[32mString\u001b[39m = \u001b[32m\"{\\\"membership_status\\\":\\\"A\\\",\\\"feedback\\\":[\\\"Clicked\\\",\\\"Unliked\\\",\\\"Liked\\\"]}\"\u001b[39m"
      ]
     },
     "execution_count": 10,
     "metadata": {},
     "output_type": "execute_result"
    }
   ],
   "source": [
    "ujson.write(data.obj(\"value\"))"
   ]
  },
  {
   "cell_type": "code",
   "execution_count": 11,
   "metadata": {},
   "outputs": [
    {
     "name": "stdout",
     "output_type": "stream",
     "text": [
      "{\n",
      "    \"membership_status\": \"A\",\n",
      "    \"feedback\": [\n",
      "        \"Clicked\",\n",
      "        \"Unliked\",\n",
      "        \"Liked\"\n",
      "    ]\n",
      "}\n"
     ]
    }
   ],
   "source": [
    "println(ujson.write(data.obj(\"value\").obj, indent = 4))"
   ]
  },
  {
   "cell_type": "code",
   "execution_count": null,
   "metadata": {},
   "outputs": [],
   "source": []
  },
  {
   "cell_type": "markdown",
   "metadata": {},
   "source": [
    "<br> **Notes**"
   ]
  },
  {
   "cell_type": "code",
   "execution_count": null,
   "metadata": {},
   "outputs": [],
   "source": [
    "// import $ivy.`org.apache.kafka::kafka-streams-scala:2.4.0`\n",
    "// import $ivy.`org.slf4j:slf4j-nop:1.7.21` \n",
    "\n",
    "// `Запись в тестовый kafka-топик`\n",
    "// <br>\n",
    "// https://gist.github.com/fancellu/f78e11b1808db2727d76\n",
    "\n",
    "// def writeToKafkaTextTopic() = {    \n",
    "//     import java.util.Properties\n",
    "//     import org.apache.kafka.clients.producer._\n",
    "//     val TOPIC=\"text_topic\"\n",
    "//     val kafkaProps = Map(\n",
    "//         \"bootstrap.servers\" -> \"172.27.1.16:9092\",\n",
    "//         \"key.serializer\"    -> \"org.apache.kafka.common.serialization.StringSerializer\",\n",
    "//         \"value.serializer\"  -> \"org.apache.kafka.common.serialization.StringSerializer\"\n",
    "//     )\n",
    "//     val props = new Properties()\n",
    "//     kafkaProps.foreach {case (k,v) => props.put(k,v)}\n",
    "//     val producer = new KafkaProducer[String, String](props)\n",
    "//     val SimpleDate = new java.text.SimpleDateFormat(\"yyyy-MM-dd\")\n",
    "//     for (i<- 1 to 30) {\n",
    "//         val string: String = f\"2020-11-${i}%02d\"\n",
    "//         val datetime = SimpleDate.parse(string)\n",
    "//         val epoch: Long = datetime.getTime\n",
    "//         if (i%2 == 0) {\n",
    "//             val record = new ProducerRecord(TOPIC, null, epoch, f\"key ${i.toBinaryString}\", s\"hello ${i} - ${string} - ${epoch.toString}\")\n",
    "//             producer.send(record)\n",
    "//         } \n",
    "//     }\n",
    "//     producer.close()\n",
    "// }\n",
    "// writeToKafkaTextTopic()"
   ]
  },
  {
   "cell_type": "code",
   "execution_count": null,
   "metadata": {},
   "outputs": [],
   "source": []
  },
  {
   "cell_type": "code",
   "execution_count": null,
   "metadata": {},
   "outputs": [],
   "source": []
  }
 ],
 "metadata": {
  "kernelspec": {
   "display_name": "Scala 2.12",
   "language": "scala",
   "name": "scala212"
  },
  "language_info": {
   "codemirror_mode": "text/x-scala",
   "file_extension": ".sc",
   "mimetype": "text/x-scala",
   "name": "scala",
   "nbconvert_exporter": "script",
   "version": "2.12.12"
  }
 },
 "nbformat": 4,
 "nbformat_minor": 4
}
